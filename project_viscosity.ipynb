{
 "cells": [
  {
   "cell_type": "code",
   "execution_count": 1,
   "metadata": {},
   "outputs": [],
   "source": [
    "import math\n",
    "import torch\n",
    "import gpytorch\n",
    "import numpy as np\n",
    "import pandas as pd\n",
    "from sklearn.model_selection import train_test_split\n",
    "from tqdm import trange, tqdm_notebook\n",
    "from matplotlib import pyplot as plt\n",
    "\n",
    "%matplotlib inline"
   ]
  },
  {
   "cell_type": "code",
   "execution_count": 2,
   "metadata": {},
   "outputs": [],
   "source": [
    "data = pd.read_excel('points.xlsx')"
   ]
  },
  {
   "cell_type": "code",
   "execution_count": 3,
   "metadata": {},
   "outputs": [
    {
     "data": {
      "text/html": [
       "<div>\n",
       "<style scoped>\n",
       "    .dataframe tbody tr th:only-of-type {\n",
       "        vertical-align: middle;\n",
       "    }\n",
       "\n",
       "    .dataframe tbody tr th {\n",
       "        vertical-align: top;\n",
       "    }\n",
       "\n",
       "    .dataframe thead th {\n",
       "        text-align: right;\n",
       "    }\n",
       "</style>\n",
       "<table border=\"1\" class=\"dataframe\">\n",
       "  <thead>\n",
       "    <tr style=\"text-align: right;\">\n",
       "      <th></th>\n",
       "      <th>Shear rate</th>\n",
       "      <th>ppm</th>\n",
       "      <th>Viscosity</th>\n",
       "    </tr>\n",
       "  </thead>\n",
       "  <tbody>\n",
       "    <tr>\n",
       "      <th>0</th>\n",
       "      <td>7.835758</td>\n",
       "      <td>10</td>\n",
       "      <td>1.683102</td>\n",
       "    </tr>\n",
       "    <tr>\n",
       "      <th>1</th>\n",
       "      <td>12.762008</td>\n",
       "      <td>10</td>\n",
       "      <td>1.486875</td>\n",
       "    </tr>\n",
       "    <tr>\n",
       "      <th>2</th>\n",
       "      <td>20.587486</td>\n",
       "      <td>10</td>\n",
       "      <td>1.414947</td>\n",
       "    </tr>\n",
       "    <tr>\n",
       "      <th>3</th>\n",
       "      <td>33.530600</td>\n",
       "      <td>10</td>\n",
       "      <td>1.380299</td>\n",
       "    </tr>\n",
       "    <tr>\n",
       "      <th>4</th>\n",
       "      <td>54.610900</td>\n",
       "      <td>10</td>\n",
       "      <td>1.313526</td>\n",
       "    </tr>\n",
       "  </tbody>\n",
       "</table>\n",
       "</div>"
      ],
      "text/plain": [
       "   Shear rate  ppm  Viscosity\n",
       "0    7.835758   10   1.683102\n",
       "1   12.762008   10   1.486875\n",
       "2   20.587486   10   1.414947\n",
       "3   33.530600   10   1.380299\n",
       "4   54.610900   10   1.313526"
      ]
     },
     "execution_count": 3,
     "metadata": {},
     "output_type": "execute_result"
    }
   ],
   "source": [
    "data.head()"
   ]
  },
  {
   "cell_type": "code",
   "execution_count": 4,
   "metadata": {},
   "outputs": [],
   "source": [
    "x = data.drop('Viscosity', axis=1).values\n",
    "y = data.Viscosity.values"
   ]
  },
  {
   "cell_type": "code",
   "execution_count": 5,
   "metadata": {},
   "outputs": [],
   "source": [
    "x_train, x_test, y_train, y_test = train_test_split(x, y, test_size=0.2, random_state=11)"
   ]
  },
  {
   "cell_type": "code",
   "execution_count": 6,
   "metadata": {},
   "outputs": [],
   "source": [
    "train_x = torch.tensor(x_train, dtype=torch.float32)\n",
    "train_y = torch.tensor(y_train, dtype=torch.float32)\n",
    "test_x = torch.tensor(x_test, dtype=torch.float32)\n",
    "test_y = torch.tensor(y_test, dtype=torch.float32)"
   ]
  },
  {
   "cell_type": "code",
   "execution_count": 14,
   "metadata": {},
   "outputs": [],
   "source": [
    "class ExactGPModel(gpytorch.models.ExactGP):\n",
    "    def __init__(self, train_x, train_y, likelihood):\n",
    "        super(ExactGPModel, self).__init__(train_x, train_y, likelihood)\n",
    "        self.mean_module = gpytorch.means.ZeroMean()\n",
    "        self.covar_module = gpytorch.kernels.ScaleKernel(gpytorch.kernels.RBFKernel())\n",
    "\n",
    "    def forward(self, x):\n",
    "        mean_x = self.mean_module(x)\n",
    "        covar_x = self.covar_module(x)\n",
    "        return gpytorch.distributions.MultivariateNormal(mean_x, covar_x)\n",
    "\n",
    "# initialize likelihood and model\n",
    "likelihood = gpytorch.likelihoods.GaussianLikelihood()\n",
    "model = ExactGPModel(train_x, train_y, likelihood)"
   ]
  },
  {
   "cell_type": "code",
   "execution_count": 15,
   "metadata": {},
   "outputs": [
    {
     "name": "stderr",
     "output_type": "stream",
     "text": [
      "\r",
      "  0%|                                                                                         | 0/1000 [00:00<?, ?it/s]"
     ]
    },
    {
     "name": "stdout",
     "output_type": "stream",
     "text": [
      "Iter 1/1000 - Loss: 255819.734   log_lengthscale: -0.367   log_noise: -0.367\n",
      "Iter 2/1000 - Loss: 237379.516   log_lengthscale: -0.295   log_noise: -0.295\n",
      "Iter 3/1000 - Loss: 243215.391   log_lengthscale: -0.227   log_noise: -0.226\n",
      "Iter 4/1000 - Loss: 227981.453   log_lengthscale: -0.169   log_noise: -0.158\n",
      "Iter 5/1000 - Loss: 213888.875   log_lengthscale: -0.187   log_noise: -0.091\n"
     ]
    },
    {
     "name": "stderr",
     "output_type": "stream",
     "text": [
      "\r",
      "  0%|▍                                                                                | 5/1000 [00:00<00:21, 46.42it/s]"
     ]
    },
    {
     "name": "stdout",
     "output_type": "stream",
     "text": [
      "Iter 6/1000 - Loss: 200066.891   log_lengthscale: -0.217   log_noise: -0.026\n",
      "Iter 7/1000 - Loss: 171278.906   log_lengthscale: -0.251   log_noise: 0.036\n",
      "Iter 8/1000 - Loss: 160457.812   log_lengthscale: -0.283   log_noise: 0.095\n",
      "Iter 9/1000 - Loss: 151983.141   log_lengthscale: -0.309   log_noise: 0.151\n",
      "Iter 10/1000 - Loss: 144703.984   log_lengthscale: -0.328   log_noise: 0.204\n"
     ]
    },
    {
     "name": "stderr",
     "output_type": "stream",
     "text": [
      "\r",
      "  1%|▊                                                                               | 10/1000 [00:00<00:21, 46.94it/s]"
     ]
    },
    {
     "name": "stdout",
     "output_type": "stream",
     "text": [
      "Iter 11/1000 - Loss: 143574.734   log_lengthscale: -0.347   log_noise: 0.254\n",
      "Iter 12/1000 - Loss: 131790.625   log_lengthscale: -0.362   log_noise: 0.302\n",
      "Iter 13/1000 - Loss: 125952.039   log_lengthscale: -0.377   log_noise: 0.348\n",
      "Iter 14/1000 - Loss: 120058.430   log_lengthscale: -0.386   log_noise: 0.391\n",
      "Iter 15/1000 - Loss: 120938.242   log_lengthscale: -0.397   log_noise: 0.431\n"
     ]
    },
    {
     "name": "stderr",
     "output_type": "stream",
     "text": [
      "\r",
      "  2%|█▏                                                                              | 15/1000 [00:00<00:20, 47.18it/s]"
     ]
    },
    {
     "name": "stdout",
     "output_type": "stream",
     "text": [
      "Iter 16/1000 - Loss: 111041.734   log_lengthscale: -0.406   log_noise: 0.471\n",
      "Iter 17/1000 - Loss: 112180.867   log_lengthscale: -0.415   log_noise: 0.509\n",
      "Iter 18/1000 - Loss: 102787.406   log_lengthscale: -0.428   log_noise: 0.545\n",
      "Iter 19/1000 - Loss: 104049.914   log_lengthscale: -0.440   log_noise: 0.579\n",
      "Iter 20/1000 - Loss: 96353.430   log_lengthscale: -0.443   log_noise: 0.612\n"
     ]
    },
    {
     "name": "stderr",
     "output_type": "stream",
     "text": [
      "\r",
      "  2%|█▌                                                                              | 20/1000 [00:00<00:21, 46.43it/s]"
     ]
    },
    {
     "name": "stdout",
     "output_type": "stream",
     "text": [
      "Iter 21/1000 - Loss: 93133.945   log_lengthscale: -0.443   log_noise: 0.643\n",
      "Iter 22/1000 - Loss: 115030.211   log_lengthscale: -0.453   log_noise: 0.672\n",
      "Iter 23/1000 - Loss: 88249.766   log_lengthscale: -0.476   log_noise: 0.703\n",
      "Iter 24/1000 - Loss: 94656.758   log_lengthscale: -0.501   log_noise: 0.731\n",
      "Iter 25/1000 - Loss: 92302.672   log_lengthscale: -0.526   log_noise: 0.758\n"
     ]
    },
    {
     "name": "stderr",
     "output_type": "stream",
     "text": [
      "\r",
      "  2%|██                                                                              | 25/1000 [00:00<00:21, 45.92it/s]"
     ]
    },
    {
     "name": "stdout",
     "output_type": "stream",
     "text": [
      "Iter 26/1000 - Loss: 89804.547   log_lengthscale: -0.560   log_noise: 0.785\n",
      "Iter 27/1000 - Loss: 81385.031   log_lengthscale: -0.602   log_noise: 0.810\n",
      "Iter 28/1000 - Loss: 79727.492   log_lengthscale: -0.642   log_noise: 0.833\n",
      "Iter 29/1000 - Loss: 77952.578   log_lengthscale: -0.677   log_noise: 0.856\n",
      "Iter 30/1000 - Loss: 76668.617   log_lengthscale: -0.703   log_noise: 0.877\n"
     ]
    },
    {
     "name": "stderr",
     "output_type": "stream",
     "text": [
      "\r",
      "  3%|██▍                                                                             | 30/1000 [00:00<00:21, 44.83it/s]"
     ]
    },
    {
     "name": "stdout",
     "output_type": "stream",
     "text": [
      "Iter 31/1000 - Loss: 81374.430   log_lengthscale: -0.739   log_noise: 0.897\n",
      "Iter 32/1000 - Loss: 73985.469   log_lengthscale: -0.769   log_noise: 0.917\n",
      "Iter 33/1000 - Loss: 72302.914   log_lengthscale: -0.798   log_noise: 0.935\n",
      "Iter 34/1000 - Loss: 77520.805   log_lengthscale: -0.818   log_noise: 0.953\n",
      "Iter 35/1000 - Loss: 86273.570   log_lengthscale: -0.851   log_noise: 0.971\n"
     ]
    },
    {
     "name": "stderr",
     "output_type": "stream",
     "text": [
      "\r",
      "  4%|██▊                                                                             | 35/1000 [00:00<00:21, 44.33it/s]"
     ]
    },
    {
     "name": "stdout",
     "output_type": "stream",
     "text": [
      "Iter 36/1000 - Loss: 74766.070   log_lengthscale: -0.882   log_noise: 0.989\n",
      "Iter 37/1000 - Loss: 68735.227   log_lengthscale: -0.929   log_noise: 1.007\n",
      "Iter 38/1000 - Loss: 68261.797   log_lengthscale: -0.975   log_noise: 1.024\n",
      "Iter 39/1000 - Loss: 66818.133   log_lengthscale: -1.012   log_noise: 1.040\n",
      "Iter 40/1000 - Loss: 66069.375   log_lengthscale: -1.056   log_noise: 1.055\n"
     ]
    },
    {
     "name": "stderr",
     "output_type": "stream",
     "text": [
      "\r",
      "  4%|███▏                                                                            | 40/1000 [00:00<00:21, 43.65it/s]"
     ]
    },
    {
     "name": "stdout",
     "output_type": "stream",
     "text": [
      "Iter 41/1000 - Loss: 65787.125   log_lengthscale: -1.086   log_noise: 1.069\n",
      "Iter 42/1000 - Loss: 64211.652   log_lengthscale: -1.101   log_noise: 1.083\n",
      "Iter 43/1000 - Loss: 68925.727   log_lengthscale: -1.113   log_noise: 1.096\n",
      "Iter 44/1000 - Loss: 60390.301   log_lengthscale: -1.107   log_noise: 1.110\n",
      "Iter 45/1000 - Loss: 61799.461   log_lengthscale: -1.115   log_noise: 1.122\n"
     ]
    },
    {
     "name": "stderr",
     "output_type": "stream",
     "text": [
      "\r",
      "  4%|███▌                                                                            | 45/1000 [00:01<00:22, 43.07it/s]"
     ]
    },
    {
     "name": "stdout",
     "output_type": "stream",
     "text": [
      "Iter 46/1000 - Loss: 61473.164   log_lengthscale: -1.129   log_noise: 1.134\n",
      "Iter 47/1000 - Loss: 60878.824   log_lengthscale: -1.141   log_noise: 1.146\n",
      "Iter 48/1000 - Loss: 59907.281   log_lengthscale: -1.154   log_noise: 1.157\n",
      "Iter 49/1000 - Loss: 59198.152   log_lengthscale: -1.145   log_noise: 1.167\n",
      "Iter 50/1000 - Loss: 58942.336   log_lengthscale: -1.122   log_noise: 1.178\n"
     ]
    },
    {
     "name": "stderr",
     "output_type": "stream",
     "text": [
      "\r",
      "  5%|████                                                                            | 50/1000 [00:01<00:22, 42.67it/s]"
     ]
    },
    {
     "name": "stdout",
     "output_type": "stream",
     "text": [
      "Iter 51/1000 - Loss: 62965.316   log_lengthscale: -1.097   log_noise: 1.187\n",
      "Iter 52/1000 - Loss: 57652.953   log_lengthscale: -1.069   log_noise: 1.197\n",
      "Iter 53/1000 - Loss: 61297.094   log_lengthscale: -1.037   log_noise: 1.207\n",
      "Iter 54/1000 - Loss: 56357.457   log_lengthscale: -1.011   log_noise: 1.216\n",
      "Iter 55/1000 - Loss: 55650.414   log_lengthscale: -0.986   log_noise: 1.226\n"
     ]
    },
    {
     "name": "stderr",
     "output_type": "stream",
     "text": [
      "\r",
      "  6%|████▍                                                                           | 55/1000 [00:01<00:21, 43.06it/s]"
     ]
    },
    {
     "name": "stdout",
     "output_type": "stream",
     "text": [
      "Iter 56/1000 - Loss: 55991.941   log_lengthscale: -0.972   log_noise: 1.234\n",
      "Iter 57/1000 - Loss: 54646.539   log_lengthscale: -0.947   log_noise: 1.243\n",
      "Iter 58/1000 - Loss: 68395.539   log_lengthscale: -0.915   log_noise: 1.251\n",
      "Iter 59/1000 - Loss: 57512.039   log_lengthscale: -0.911   log_noise: 1.261\n",
      "Iter 60/1000 - Loss: 56718.039   log_lengthscale: -0.914   log_noise: 1.270\n"
     ]
    },
    {
     "name": "stderr",
     "output_type": "stream",
     "text": [
      "\r",
      "  6%|████▊                                                                           | 60/1000 [00:01<00:22, 42.02it/s]"
     ]
    },
    {
     "name": "stdout",
     "output_type": "stream",
     "text": [
      "Iter 61/1000 - Loss: 60138.398   log_lengthscale: -0.926   log_noise: 1.279\n",
      "Iter 62/1000 - Loss: 52565.621   log_lengthscale: -0.941   log_noise: 1.288\n",
      "Iter 63/1000 - Loss: 56492.605   log_lengthscale: -0.966   log_noise: 1.297\n",
      "Iter 64/1000 - Loss: 51578.246   log_lengthscale: -1.013   log_noise: 1.306\n",
      "Iter 65/1000 - Loss: 55591.777   log_lengthscale: -1.054   log_noise: 1.315\n"
     ]
    },
    {
     "name": "stderr",
     "output_type": "stream",
     "text": [
      "\r",
      "  6%|█████▏                                                                          | 65/1000 [00:01<00:22, 41.43it/s]"
     ]
    },
    {
     "name": "stdout",
     "output_type": "stream",
     "text": [
      "Iter 66/1000 - Loss: 55113.977   log_lengthscale: -1.104   log_noise: 1.324\n",
      "Iter 67/1000 - Loss: 60946.707   log_lengthscale: -1.145   log_noise: 1.332\n",
      "Iter 68/1000 - Loss: 54795.984   log_lengthscale: -1.199   log_noise: 1.341\n",
      "Iter 69/1000 - Loss: 62396.039   log_lengthscale: -1.252   log_noise: 1.350\n",
      "Iter 70/1000 - Loss: 50430.719   log_lengthscale: -1.335   log_noise: 1.359\n"
     ]
    },
    {
     "name": "stderr",
     "output_type": "stream",
     "text": [
      "\r",
      "  7%|█████▌                                                                          | 70/1000 [00:01<00:22, 41.84it/s]"
     ]
    },
    {
     "name": "stdout",
     "output_type": "stream",
     "text": [
      "Iter 71/1000 - Loss: 49843.922   log_lengthscale: -1.400   log_noise: 1.368\n",
      "Iter 72/1000 - Loss: 49760.219   log_lengthscale: -1.466   log_noise: 1.376\n",
      "Iter 73/1000 - Loss: 52813.660   log_lengthscale: -1.527   log_noise: 1.384\n",
      "Iter 74/1000 - Loss: 52576.102   log_lengthscale: -1.569   log_noise: 1.392\n",
      "Iter 75/1000 - Loss: 52241.461   log_lengthscale: -1.625   log_noise: 1.400\n"
     ]
    },
    {
     "name": "stderr",
     "output_type": "stream",
     "text": [
      "\r",
      "  8%|██████                                                                          | 75/1000 [00:01<00:21, 42.25it/s]"
     ]
    },
    {
     "name": "stdout",
     "output_type": "stream",
     "text": [
      "Iter 76/1000 - Loss: 49064.188   log_lengthscale: -1.695   log_noise: 1.408\n",
      "Iter 77/1000 - Loss: 51615.156   log_lengthscale: -1.746   log_noise: 1.415\n",
      "Iter 78/1000 - Loss: 48355.375   log_lengthscale: -1.729   log_noise: 1.422\n",
      "Iter 79/1000 - Loss: 48272.406   log_lengthscale: -1.710   log_noise: 1.429\n",
      "Iter 80/1000 - Loss: 47431.258   log_lengthscale: -1.702   log_noise: 1.436\n"
     ]
    },
    {
     "name": "stderr",
     "output_type": "stream",
     "text": [
      "\r",
      "  8%|██████▍                                                                         | 80/1000 [00:01<00:21, 43.19it/s]"
     ]
    },
    {
     "name": "stdout",
     "output_type": "stream",
     "text": [
      "Iter 81/1000 - Loss: 48658.496   log_lengthscale: -1.688   log_noise: 1.442\n",
      "Iter 82/1000 - Loss: 46523.426   log_lengthscale: -1.671   log_noise: 1.449\n",
      "Iter 83/1000 - Loss: 49757.816   log_lengthscale: -1.666   log_noise: 1.455\n",
      "Iter 84/1000 - Loss: 46423.445   log_lengthscale: -1.660   log_noise: 1.461\n",
      "Iter 85/1000 - Loss: 44036.078   log_lengthscale: -1.653   log_noise: 1.467\n"
     ]
    },
    {
     "name": "stderr",
     "output_type": "stream",
     "text": [
      "\r",
      "  8%|██████▊                                                                         | 85/1000 [00:01<00:21, 42.87it/s]"
     ]
    },
    {
     "name": "stdout",
     "output_type": "stream",
     "text": [
      "Iter 86/1000 - Loss: 46016.414   log_lengthscale: -1.661   log_noise: 1.473\n",
      "Iter 87/1000 - Loss: 45171.984   log_lengthscale: -1.662   log_noise: 1.479\n",
      "Iter 88/1000 - Loss: 45422.582   log_lengthscale: -1.672   log_noise: 1.484\n",
      "Iter 89/1000 - Loss: 46111.902   log_lengthscale: -1.682   log_noise: 1.490\n",
      "Iter 90/1000 - Loss: 45578.484   log_lengthscale: -1.698   log_noise: 1.495\n"
     ]
    },
    {
     "name": "stderr",
     "output_type": "stream",
     "text": [
      "\r",
      "  9%|███████▏                                                                        | 90/1000 [00:02<00:21, 42.86it/s]"
     ]
    },
    {
     "name": "stdout",
     "output_type": "stream",
     "text": [
      "Iter 91/1000 - Loss: 44694.156   log_lengthscale: -1.710   log_noise: 1.500\n",
      "Iter 92/1000 - Loss: 47168.242   log_lengthscale: -1.730   log_noise: 1.505\n",
      "Iter 93/1000 - Loss: 44578.180   log_lengthscale: -1.732   log_noise: 1.510\n",
      "Iter 94/1000 - Loss: 44642.277   log_lengthscale: -1.728   log_noise: 1.515\n",
      "Iter 95/1000 - Loss: 43244.184   log_lengthscale: -1.714   log_noise: 1.520\n"
     ]
    },
    {
     "name": "stderr",
     "output_type": "stream",
     "text": [
      "\r",
      " 10%|███████▌                                                                        | 95/1000 [00:02<00:21, 42.97it/s]"
     ]
    },
    {
     "name": "stdout",
     "output_type": "stream",
     "text": [
      "Iter 96/1000 - Loss: 42574.504   log_lengthscale: -1.699   log_noise: 1.525\n",
      "Iter 97/1000 - Loss: 43744.121   log_lengthscale: -1.691   log_noise: 1.529\n",
      "Iter 98/1000 - Loss: 42768.762   log_lengthscale: -1.675   log_noise: 1.534\n",
      "Iter 99/1000 - Loss: 42736.688   log_lengthscale: -1.662   log_noise: 1.538\n",
      "Iter 100/1000 - Loss: 45329.719   log_lengthscale: -1.650   log_noise: 1.543\n"
     ]
    },
    {
     "name": "stderr",
     "output_type": "stream",
     "text": [
      "\r",
      " 10%|███████▉                                                                       | 100/1000 [00:02<00:20, 44.07it/s]"
     ]
    },
    {
     "name": "stdout",
     "output_type": "stream",
     "text": [
      "Iter 101/1000 - Loss: 51303.637   log_lengthscale: -1.608   log_noise: 1.547\n",
      "Iter 102/1000 - Loss: 45227.762   log_lengthscale: -1.585   log_noise: 1.552\n",
      "Iter 103/1000 - Loss: 51899.180   log_lengthscale: -1.576   log_noise: 1.557\n",
      "Iter 104/1000 - Loss: 47341.738   log_lengthscale: -1.627   log_noise: 1.563\n",
      "Iter 105/1000 - Loss: 42591.395   log_lengthscale: -1.695   log_noise: 1.568\n",
      "Iter 106/1000 - Loss: 42423.582   log_lengthscale: -1.759   log_noise: 1.573\n"
     ]
    },
    {
     "name": "stderr",
     "output_type": "stream",
     "text": [
      "\r",
      " 11%|████████▎                                                                      | 106/1000 [00:02<00:19, 45.94it/s]"
     ]
    },
    {
     "name": "stdout",
     "output_type": "stream",
     "text": [
      "Iter 107/1000 - Loss: 41102.539   log_lengthscale: -1.833   log_noise: 1.579\n",
      "Iter 108/1000 - Loss: 44073.301   log_lengthscale: -1.906   log_noise: 1.584\n",
      "Iter 109/1000 - Loss: 41211.527   log_lengthscale: -1.965   log_noise: 1.589\n",
      "Iter 110/1000 - Loss: 45623.383   log_lengthscale: -2.007   log_noise: 1.593\n",
      "Iter 111/1000 - Loss: 41326.695   log_lengthscale: -2.055   log_noise: 1.598\n"
     ]
    },
    {
     "name": "stderr",
     "output_type": "stream",
     "text": [
      "\r",
      " 11%|████████▊                                                                      | 111/1000 [00:02<00:19, 46.72it/s]"
     ]
    },
    {
     "name": "stdout",
     "output_type": "stream",
     "text": [
      "Iter 112/1000 - Loss: 40757.996   log_lengthscale: -2.124   log_noise: 1.603\n",
      "Iter 113/1000 - Loss: 40811.254   log_lengthscale: -2.177   log_noise: 1.607\n",
      "Iter 114/1000 - Loss: 42880.621   log_lengthscale: -2.259   log_noise: 1.612\n",
      "Iter 115/1000 - Loss: 40905.195   log_lengthscale: -2.353   log_noise: 1.616\n",
      "Iter 116/1000 - Loss: 39974.242   log_lengthscale: -2.451   log_noise: 1.621\n"
     ]
    },
    {
     "name": "stderr",
     "output_type": "stream",
     "text": [
      "\r",
      " 12%|█████████▏                                                                     | 116/1000 [00:02<00:18, 47.29it/s]"
     ]
    },
    {
     "name": "stdout",
     "output_type": "stream",
     "text": [
      "Iter 117/1000 - Loss: 39703.391   log_lengthscale: -2.535   log_noise: 1.625\n",
      "Iter 118/1000 - Loss: 42468.367   log_lengthscale: -2.578   log_noise: 1.629\n",
      "Iter 119/1000 - Loss: 39913.055   log_lengthscale: -2.666   log_noise: 1.633\n",
      "Iter 120/1000 - Loss: 39493.480   log_lengthscale: -2.708   log_noise: 1.637\n",
      "Iter 121/1000 - Loss: 39916.559   log_lengthscale: -2.705   log_noise: 1.641\n"
     ]
    },
    {
     "name": "stderr",
     "output_type": "stream",
     "text": [
      "\r",
      " 12%|█████████▌                                                                     | 121/1000 [00:02<00:18, 47.03it/s]"
     ]
    },
    {
     "name": "stdout",
     "output_type": "stream",
     "text": [
      "Iter 122/1000 - Loss: 39398.859   log_lengthscale: -2.745   log_noise: 1.645\n",
      "Iter 123/1000 - Loss: 39835.809   log_lengthscale: -2.766   log_noise: 1.648\n",
      "Iter 124/1000 - Loss: 39023.297   log_lengthscale: -2.827   log_noise: 1.652\n",
      "Iter 125/1000 - Loss: 37689.156   log_lengthscale: -2.826   log_noise: 1.656\n",
      "Iter 126/1000 - Loss: 38732.203   log_lengthscale: -2.865   log_noise: 1.659\n"
     ]
    },
    {
     "name": "stderr",
     "output_type": "stream",
     "text": [
      "\r",
      " 13%|█████████▉                                                                     | 126/1000 [00:02<00:18, 46.20it/s]"
     ]
    },
    {
     "name": "stdout",
     "output_type": "stream",
     "text": [
      "Iter 127/1000 - Loss: 40546.496   log_lengthscale: -2.923   log_noise: 1.663\n",
      "Iter 128/1000 - Loss: 40757.793   log_lengthscale: -2.989   log_noise: 1.666\n",
      "Iter 129/1000 - Loss: 39218.613   log_lengthscale: -3.110   log_noise: 1.670\n",
      "Iter 130/1000 - Loss: 37673.730   log_lengthscale: -3.201   log_noise: 1.673\n",
      "Iter 131/1000 - Loss: 37718.992   log_lengthscale: -3.236   log_noise: 1.677\n"
     ]
    },
    {
     "name": "stderr",
     "output_type": "stream",
     "text": [
      "\r",
      " 13%|██████████▎                                                                    | 131/1000 [00:02<00:18, 46.01it/s]"
     ]
    },
    {
     "name": "stdout",
     "output_type": "stream",
     "text": [
      "Iter 132/1000 - Loss: 39670.957   log_lengthscale: -3.268   log_noise: 1.680\n",
      "Iter 133/1000 - Loss: 40211.234   log_lengthscale: -3.271   log_noise: 1.683\n",
      "Iter 134/1000 - Loss: 39543.004   log_lengthscale: -3.299   log_noise: 1.687\n",
      "Iter 135/1000 - Loss: 40561.234   log_lengthscale: -3.293   log_noise: 1.690\n",
      "Iter 136/1000 - Loss: 37539.445   log_lengthscale: -3.382   log_noise: 1.694\n"
     ]
    },
    {
     "name": "stderr",
     "output_type": "stream",
     "text": [
      "\r",
      " 14%|██████████▋                                                                    | 136/1000 [00:03<00:18, 46.13it/s]"
     ]
    },
    {
     "name": "stdout",
     "output_type": "stream",
     "text": [
      "Iter 137/1000 - Loss: 36744.957   log_lengthscale: -3.455   log_noise: 1.697\n",
      "Iter 138/1000 - Loss: 37632.684   log_lengthscale: -3.536   log_noise: 1.700\n",
      "Iter 139/1000 - Loss: 37726.895   log_lengthscale: -3.612   log_noise: 1.704\n",
      "Iter 140/1000 - Loss: 38723.645   log_lengthscale: -3.666   log_noise: 1.707\n",
      "Iter 141/1000 - Loss: 34809.504   log_lengthscale: -3.784   log_noise: 1.710\n"
     ]
    },
    {
     "name": "stderr",
     "output_type": "stream",
     "text": [
      "\r",
      " 14%|███████████▏                                                                   | 141/1000 [00:03<00:18, 46.22it/s]"
     ]
    },
    {
     "name": "stdout",
     "output_type": "stream",
     "text": [
      "Iter 142/1000 - Loss: 38649.176   log_lengthscale: -3.898   log_noise: 1.713\n",
      "Iter 143/1000 - Loss: 38792.586   log_lengthscale: -4.000   log_noise: 1.717\n",
      "Iter 144/1000 - Loss: 38527.527   log_lengthscale: -4.146   log_noise: 1.720\n",
      "Iter 145/1000 - Loss: 36155.801   log_lengthscale: -4.217   log_noise: 1.723\n",
      "Iter 146/1000 - Loss: 37765.645   log_lengthscale: -4.224   log_noise: 1.726\n"
     ]
    },
    {
     "name": "stderr",
     "output_type": "stream",
     "text": [
      "\r",
      " 15%|███████████▌                                                                   | 146/1000 [00:03<00:18, 46.15it/s]"
     ]
    },
    {
     "name": "stdout",
     "output_type": "stream",
     "text": [
      "Iter 147/1000 - Loss: 35425.957   log_lengthscale: -4.223   log_noise: 1.730\n",
      "Iter 148/1000 - Loss: 35830.508   log_lengthscale: -4.254   log_noise: 1.733\n",
      "Iter 149/1000 - Loss: 35711.793   log_lengthscale: -4.246   log_noise: 1.736\n",
      "Iter 150/1000 - Loss: 37630.652   log_lengthscale: -4.278   log_noise: 1.739\n",
      "Iter 151/1000 - Loss: 37840.570   log_lengthscale: -4.311   log_noise: 1.742\n"
     ]
    },
    {
     "name": "stderr",
     "output_type": "stream",
     "text": [
      "\r",
      " 15%|███████████▉                                                                   | 151/1000 [00:03<00:18, 45.11it/s]"
     ]
    },
    {
     "name": "stdout",
     "output_type": "stream",
     "text": [
      "Iter 152/1000 - Loss: 35979.383   log_lengthscale: -4.421   log_noise: 1.746\n",
      "Iter 153/1000 - Loss: 35380.785   log_lengthscale: -4.509   log_noise: 1.749\n",
      "Iter 154/1000 - Loss: 35304.023   log_lengthscale: -4.593   log_noise: 1.752\n",
      "Iter 155/1000 - Loss: 37316.344   log_lengthscale: -4.678   log_noise: 1.755\n",
      "Iter 156/1000 - Loss: 37120.586   log_lengthscale: -4.808   log_noise: 1.758\n"
     ]
    },
    {
     "name": "stderr",
     "output_type": "stream",
     "text": [
      "\r",
      " 16%|████████████▎                                                                  | 156/1000 [00:03<00:18, 44.88it/s]"
     ]
    },
    {
     "name": "stdout",
     "output_type": "stream",
     "text": [
      "Iter 157/1000 - Loss: 36778.660   log_lengthscale: -4.878   log_noise: 1.761\n",
      "Iter 158/1000 - Loss: 34401.234   log_lengthscale: -4.989   log_noise: 1.764\n",
      "Iter 159/1000 - Loss: 34811.391   log_lengthscale: -5.115   log_noise: 1.767\n",
      "Iter 160/1000 - Loss: 36577.883   log_lengthscale: -5.231   log_noise: 1.770\n",
      "Iter 161/1000 - Loss: 33982.004   log_lengthscale: -5.175   log_noise: 1.773\n"
     ]
    },
    {
     "name": "stderr",
     "output_type": "stream",
     "text": [
      "\r",
      " 16%|████████████▋                                                                  | 161/1000 [00:03<00:18, 46.08it/s]"
     ]
    },
    {
     "name": "stdout",
     "output_type": "stream",
     "text": [
      "Iter 162/1000 - Loss: 34810.637   log_lengthscale: -5.112   log_noise: 1.776\n",
      "Iter 163/1000 - Loss: 36569.629   log_lengthscale: -5.064   log_noise: 1.778\n",
      "Iter 164/1000 - Loss: 35987.902   log_lengthscale: -5.106   log_noise: 1.781\n",
      "Iter 165/1000 - Loss: 34181.047   log_lengthscale: -5.192   log_noise: 1.784\n",
      "Iter 166/1000 - Loss: 34109.793   log_lengthscale: -5.271   log_noise: 1.787\n"
     ]
    },
    {
     "name": "stderr",
     "output_type": "stream",
     "text": [
      "\r",
      " 17%|█████████████                                                                  | 166/1000 [00:03<00:18, 45.55it/s]"
     ]
    },
    {
     "name": "stdout",
     "output_type": "stream",
     "text": [
      "Iter 167/1000 - Loss: 39103.383   log_lengthscale: -5.365   log_noise: 1.790\n",
      "Iter 168/1000 - Loss: 33562.895   log_lengthscale: -5.464   log_noise: 1.793\n",
      "Iter 169/1000 - Loss: 35227.426   log_lengthscale: -5.537   log_noise: 1.796\n",
      "Iter 170/1000 - Loss: 33578.637   log_lengthscale: -5.611   log_noise: 1.799\n",
      "Iter 171/1000 - Loss: 35813.090   log_lengthscale: -5.717   log_noise: 1.802\n"
     ]
    },
    {
     "name": "stderr",
     "output_type": "stream",
     "text": [
      "\r",
      " 17%|█████████████▌                                                                 | 171/1000 [00:03<00:18, 44.47it/s]"
     ]
    },
    {
     "name": "stdout",
     "output_type": "stream",
     "text": [
      "Iter 172/1000 - Loss: 33973.145   log_lengthscale: -5.785   log_noise: 1.805\n",
      "Iter 173/1000 - Loss: 39575.898   log_lengthscale: -5.729   log_noise: 1.808\n",
      "Iter 174/1000 - Loss: 32976.684   log_lengthscale: -5.827   log_noise: 1.811\n",
      "Iter 175/1000 - Loss: 34998.234   log_lengthscale: -5.947   log_noise: 1.814\n",
      "Iter 176/1000 - Loss: 34868.047   log_lengthscale: -6.065   log_noise: 1.818\n"
     ]
    },
    {
     "name": "stderr",
     "output_type": "stream",
     "text": [
      "\r",
      " 18%|█████████████▉                                                                 | 176/1000 [00:03<00:18, 44.44it/s]"
     ]
    },
    {
     "name": "stdout",
     "output_type": "stream",
     "text": [
      "Iter 177/1000 - Loss: 32487.777   log_lengthscale: -6.147   log_noise: 1.821\n",
      "Iter 178/1000 - Loss: 36859.297   log_lengthscale: -6.214   log_noise: 1.824\n",
      "Iter 179/1000 - Loss: 32536.562   log_lengthscale: -6.138   log_noise: 1.827\n",
      "Iter 180/1000 - Loss: 38221.156   log_lengthscale: -6.062   log_noise: 1.830\n",
      "Iter 181/1000 - Loss: 34426.688   log_lengthscale: -6.029   log_noise: 1.833\n"
     ]
    },
    {
     "name": "stderr",
     "output_type": "stream",
     "text": [
      "\r",
      " 18%|██████████████▎                                                                | 181/1000 [00:04<00:18, 44.89it/s]"
     ]
    },
    {
     "name": "stdout",
     "output_type": "stream",
     "text": [
      "Iter 182/1000 - Loss: 32301.881   log_lengthscale: -6.003   log_noise: 1.836\n",
      "Iter 183/1000 - Loss: 32385.232   log_lengthscale: -5.977   log_noise: 1.839\n",
      "Iter 184/1000 - Loss: 32396.039   log_lengthscale: -5.974   log_noise: 1.842\n",
      "Iter 185/1000 - Loss: 32584.088   log_lengthscale: -5.982   log_noise: 1.845\n",
      "Iter 186/1000 - Loss: 31738.551   log_lengthscale: -5.976   log_noise: 1.848\n"
     ]
    },
    {
     "name": "stderr",
     "output_type": "stream",
     "text": [
      "\r",
      " 19%|██████████████▋                                                                | 186/1000 [00:04<00:18, 44.73it/s]"
     ]
    },
    {
     "name": "stdout",
     "output_type": "stream",
     "text": [
      "Iter 187/1000 - Loss: 33713.477   log_lengthscale: -5.966   log_noise: 1.851\n",
      "Iter 188/1000 - Loss: 33375.184   log_lengthscale: -5.938   log_noise: 1.854\n",
      "Iter 189/1000 - Loss: 31670.264   log_lengthscale: -5.883   log_noise: 1.856\n",
      "Iter 190/1000 - Loss: 33306.676   log_lengthscale: -5.840   log_noise: 1.859\n",
      "Iter 191/1000 - Loss: 31877.359   log_lengthscale: -5.803   log_noise: 1.862\n"
     ]
    },
    {
     "name": "stderr",
     "output_type": "stream",
     "text": [
      "\r",
      " 19%|███████████████                                                                | 191/1000 [00:04<00:17, 44.98it/s]"
     ]
    },
    {
     "name": "stdout",
     "output_type": "stream",
     "text": [
      "Iter 192/1000 - Loss: 33517.844   log_lengthscale: -5.762   log_noise: 1.864\n",
      "Iter 193/1000 - Loss: 37615.285   log_lengthscale: -5.723   log_noise: 1.867\n",
      "Iter 194/1000 - Loss: 36722.027   log_lengthscale: -5.737   log_noise: 1.870\n",
      "Iter 195/1000 - Loss: 33126.750   log_lengthscale: -5.729   log_noise: 1.873\n",
      "Iter 196/1000 - Loss: 33497.188   log_lengthscale: -5.732   log_noise: 1.876\n"
     ]
    },
    {
     "name": "stderr",
     "output_type": "stream",
     "text": [
      "\r",
      " 20%|███████████████▍                                                               | 196/1000 [00:04<00:17, 45.28it/s]"
     ]
    },
    {
     "name": "stdout",
     "output_type": "stream",
     "text": [
      "Iter 197/1000 - Loss: 37014.402   log_lengthscale: -5.756   log_noise: 1.879\n",
      "Iter 198/1000 - Loss: 30863.768   log_lengthscale: -5.787   log_noise: 1.882\n",
      "Iter 199/1000 - Loss: 29877.443   log_lengthscale: -5.814   log_noise: 1.885\n",
      "Iter 200/1000 - Loss: 30468.047   log_lengthscale: -5.831   log_noise: 1.888\n",
      "Iter 201/1000 - Loss: 31124.672   log_lengthscale: -5.843   log_noise: 1.890\n"
     ]
    },
    {
     "name": "stderr",
     "output_type": "stream",
     "text": [
      "\r",
      " 20%|███████████████▉                                                               | 201/1000 [00:04<00:17, 45.87it/s]"
     ]
    },
    {
     "name": "stdout",
     "output_type": "stream",
     "text": [
      "Iter 202/1000 - Loss: 31281.031   log_lengthscale: -5.852   log_noise: 1.893\n",
      "Iter 203/1000 - Loss: 31562.420   log_lengthscale: -5.846   log_noise: 1.896\n",
      "Iter 204/1000 - Loss: 30080.738   log_lengthscale: -5.845   log_noise: 1.898\n",
      "Iter 205/1000 - Loss: 30618.791   log_lengthscale: -5.837   log_noise: 1.901\n",
      "Iter 206/1000 - Loss: 30076.746   log_lengthscale: -5.831   log_noise: 1.903\n"
     ]
    },
    {
     "name": "stderr",
     "output_type": "stream",
     "text": [
      "\r",
      " 21%|████████████████▎                                                              | 206/1000 [00:04<00:18, 42.09it/s]"
     ]
    },
    {
     "name": "stdout",
     "output_type": "stream",
     "text": [
      "Iter 207/1000 - Loss: 31913.770   log_lengthscale: -5.828   log_noise: 1.905\n",
      "Iter 208/1000 - Loss: 29253.840   log_lengthscale: -5.840   log_noise: 1.908\n",
      "Iter 209/1000 - Loss: 30028.492   log_lengthscale: -5.839   log_noise: 1.910\n",
      "Iter 210/1000 - Loss: 30206.238   log_lengthscale: -5.829   log_noise: 1.912\n",
      "Iter 211/1000 - Loss: 30103.080   log_lengthscale: -5.825   log_noise: 1.915\n"
     ]
    },
    {
     "name": "stderr",
     "output_type": "stream",
     "text": [
      "\r",
      " 21%|████████████████▋                                                              | 211/1000 [00:04<00:18, 41.89it/s]"
     ]
    },
    {
     "name": "stdout",
     "output_type": "stream",
     "text": [
      "Iter 212/1000 - Loss: 30153.170   log_lengthscale: -5.813   log_noise: 1.917\n",
      "Iter 213/1000 - Loss: 30241.916   log_lengthscale: -5.802   log_noise: 1.919\n",
      "Iter 214/1000 - Loss: 30150.223   log_lengthscale: -5.807   log_noise: 1.921\n",
      "Iter 215/1000 - Loss: 30259.330   log_lengthscale: -5.805   log_noise: 1.923\n",
      "Iter 216/1000 - Loss: 30277.637   log_lengthscale: -5.810   log_noise: 1.925\n"
     ]
    },
    {
     "name": "stderr",
     "output_type": "stream",
     "text": [
      "\r",
      " 22%|█████████████████                                                              | 216/1000 [00:04<00:18, 43.38it/s]"
     ]
    },
    {
     "name": "stdout",
     "output_type": "stream",
     "text": [
      "Iter 217/1000 - Loss: 29787.457   log_lengthscale: -5.821   log_noise: 1.927\n",
      "Iter 218/1000 - Loss: 29532.131   log_lengthscale: -5.837   log_noise: 1.929\n",
      "Iter 219/1000 - Loss: 30279.219   log_lengthscale: -5.853   log_noise: 1.931\n",
      "Iter 220/1000 - Loss: 29453.939   log_lengthscale: -5.859   log_noise: 1.933\n",
      "Iter 221/1000 - Loss: 29263.037   log_lengthscale: -5.872   log_noise: 1.935\n"
     ]
    },
    {
     "name": "stderr",
     "output_type": "stream",
     "text": [
      "\r",
      " 22%|█████████████████▍                                                             | 221/1000 [00:04<00:17, 44.13it/s]"
     ]
    },
    {
     "name": "stdout",
     "output_type": "stream",
     "text": [
      "Iter 222/1000 - Loss: 31111.361   log_lengthscale: -5.894   log_noise: 1.937\n",
      "Iter 223/1000 - Loss: 28831.307   log_lengthscale: -5.951   log_noise: 1.939\n",
      "Iter 224/1000 - Loss: 30955.246   log_lengthscale: -6.009   log_noise: 1.941\n",
      "Iter 225/1000 - Loss: 31473.859   log_lengthscale: -6.043   log_noise: 1.944\n",
      "Iter 226/1000 - Loss: 34104.074   log_lengthscale: -6.070   log_noise: 1.946\n"
     ]
    },
    {
     "name": "stderr",
     "output_type": "stream",
     "text": [
      "\r",
      " 23%|█████████████████▊                                                             | 226/1000 [00:05<00:17, 45.40it/s]"
     ]
    },
    {
     "name": "stdout",
     "output_type": "stream",
     "text": [
      "Iter 227/1000 - Loss: 30645.771   log_lengthscale: -6.095   log_noise: 1.948\n",
      "Iter 228/1000 - Loss: 29534.070   log_lengthscale: -6.130   log_noise: 1.950\n",
      "Iter 229/1000 - Loss: 28711.887   log_lengthscale: -6.185   log_noise: 1.953\n",
      "Iter 230/1000 - Loss: 28799.783   log_lengthscale: -6.239   log_noise: 1.955\n",
      "Iter 231/1000 - Loss: 30583.668   log_lengthscale: -6.276   log_noise: 1.957\n"
     ]
    },
    {
     "name": "stderr",
     "output_type": "stream",
     "text": [
      "\r",
      " 23%|██████████████████▏                                                            | 231/1000 [00:05<00:16, 45.45it/s]"
     ]
    },
    {
     "name": "stdout",
     "output_type": "stream",
     "text": [
      "Iter 232/1000 - Loss: 30202.537   log_lengthscale: -6.356   log_noise: 1.959\n",
      "Iter 233/1000 - Loss: 30606.818   log_lengthscale: -6.428   log_noise: 1.961\n",
      "Iter 234/1000 - Loss: 28781.326   log_lengthscale: -6.520   log_noise: 1.964\n",
      "Iter 235/1000 - Loss: 28289.230   log_lengthscale: -6.604   log_noise: 1.966\n",
      "Iter 236/1000 - Loss: 30056.973   log_lengthscale: -6.731   log_noise: 1.968\n"
     ]
    },
    {
     "name": "stderr",
     "output_type": "stream",
     "text": [
      "\r",
      " 24%|██████████████████▋                                                            | 236/1000 [00:05<00:16, 45.62it/s]"
     ]
    },
    {
     "name": "stdout",
     "output_type": "stream",
     "text": [
      "Iter 237/1000 - Loss: 28681.131   log_lengthscale: -6.912   log_noise: 1.970\n",
      "Iter 238/1000 - Loss: 28354.793   log_lengthscale: -7.033   log_noise: 1.972\n",
      "Iter 239/1000 - Loss: 28626.230   log_lengthscale: -7.174   log_noise: 1.974\n",
      "Iter 240/1000 - Loss: 28599.986   log_lengthscale: -7.274   log_noise: 1.976\n",
      "Iter 241/1000 - Loss: 29931.213   log_lengthscale: -7.283   log_noise: 1.978\n"
     ]
    },
    {
     "name": "stderr",
     "output_type": "stream",
     "text": [
      "\r",
      " 24%|███████████████████                                                            | 241/1000 [00:05<00:16, 45.11it/s]"
     ]
    },
    {
     "name": "stdout",
     "output_type": "stream",
     "text": [
      "Iter 242/1000 - Loss: 28249.207   log_lengthscale: -7.253   log_noise: 1.980\n",
      "Iter 243/1000 - Loss: 28496.424   log_lengthscale: -7.229   log_noise: 1.982\n",
      "Iter 244/1000 - Loss: 28415.213   log_lengthscale: -7.231   log_noise: 1.984\n",
      "Iter 245/1000 - Loss: 27059.160   log_lengthscale: -7.257   log_noise: 1.986\n",
      "Iter 246/1000 - Loss: 28089.496   log_lengthscale: -7.242   log_noise: 1.988\n"
     ]
    },
    {
     "name": "stderr",
     "output_type": "stream",
     "text": [
      "\r",
      " 25%|███████████████████▍                                                           | 246/1000 [00:05<00:16, 46.12it/s]"
     ]
    },
    {
     "name": "stdout",
     "output_type": "stream",
     "text": [
      "Iter 247/1000 - Loss: 29755.211   log_lengthscale: -7.291   log_noise: 1.989\n",
      "Iter 248/1000 - Loss: 28256.812   log_lengthscale: -7.262   log_noise: 1.991\n",
      "Iter 249/1000 - Loss: 27854.309   log_lengthscale: -7.283   log_noise: 1.993\n",
      "Iter 250/1000 - Loss: 29295.621   log_lengthscale: -7.280   log_noise: 1.995\n",
      "Iter 251/1000 - Loss: 27768.207   log_lengthscale: -7.165   log_noise: 1.997\n"
     ]
    },
    {
     "name": "stderr",
     "output_type": "stream",
     "text": [
      "\r",
      " 25%|███████████████████▊                                                           | 251/1000 [00:05<00:16, 46.47it/s]"
     ]
    },
    {
     "name": "stdout",
     "output_type": "stream",
     "text": [
      "Iter 252/1000 - Loss: 29943.906   log_lengthscale: -7.093   log_noise: 1.999\n",
      "Iter 253/1000 - Loss: 27567.369   log_lengthscale: -7.026   log_noise: 2.001\n",
      "Iter 254/1000 - Loss: 27480.354   log_lengthscale: -6.966   log_noise: 2.002\n",
      "Iter 255/1000 - Loss: 27803.316   log_lengthscale: -6.905   log_noise: 2.004\n",
      "Iter 256/1000 - Loss: 27621.268   log_lengthscale: -6.847   log_noise: 2.006\n"
     ]
    },
    {
     "name": "stderr",
     "output_type": "stream",
     "text": [
      "\r",
      " 26%|████████████████████▏                                                          | 256/1000 [00:05<00:16, 46.07it/s]"
     ]
    },
    {
     "name": "stdout",
     "output_type": "stream",
     "text": [
      "Iter 257/1000 - Loss: 29015.768   log_lengthscale: -6.791   log_noise: 2.008\n",
      "Iter 258/1000 - Loss: 32110.449   log_lengthscale: -6.755   log_noise: 2.010\n",
      "Iter 259/1000 - Loss: 29396.570   log_lengthscale: -6.777   log_noise: 2.012\n",
      "Iter 260/1000 - Loss: 27333.232   log_lengthscale: -6.824   log_noise: 2.014\n",
      "Iter 261/1000 - Loss: 26821.838   log_lengthscale: -6.876   log_noise: 2.016\n"
     ]
    },
    {
     "name": "stderr",
     "output_type": "stream",
     "text": [
      "\r",
      " 26%|████████████████████▌                                                          | 261/1000 [00:05<00:16, 45.80it/s]"
     ]
    },
    {
     "name": "stdout",
     "output_type": "stream",
     "text": [
      "Iter 262/1000 - Loss: 28468.996   log_lengthscale: -6.927   log_noise: 2.017\n",
      "Iter 263/1000 - Loss: 26900.822   log_lengthscale: -7.030   log_noise: 2.019\n",
      "Iter 264/1000 - Loss: 29234.770   log_lengthscale: -7.122   log_noise: 2.021\n",
      "Iter 265/1000 - Loss: 28346.947   log_lengthscale: -7.256   log_noise: 2.023\n",
      "Iter 266/1000 - Loss: 26940.682   log_lengthscale: -7.362   log_noise: 2.025\n"
     ]
    },
    {
     "name": "stderr",
     "output_type": "stream",
     "text": [
      "\r",
      " 27%|█████████████████████                                                          | 266/1000 [00:05<00:16, 45.60it/s]"
     ]
    },
    {
     "name": "stdout",
     "output_type": "stream",
     "text": [
      "Iter 267/1000 - Loss: 28264.396   log_lengthscale: -7.428   log_noise: 2.027\n",
      "Iter 268/1000 - Loss: 29373.004   log_lengthscale: -7.548   log_noise: 2.029\n",
      "Iter 269/1000 - Loss: 26700.211   log_lengthscale: -7.709   log_noise: 2.031\n",
      "Iter 270/1000 - Loss: 26778.496   log_lengthscale: -7.867   log_noise: 2.032\n",
      "Iter 271/1000 - Loss: 26520.309   log_lengthscale: -8.069   log_noise: 2.034\n"
     ]
    },
    {
     "name": "stderr",
     "output_type": "stream",
     "text": [
      "\r",
      " 27%|█████████████████████▍                                                         | 271/1000 [00:06<00:16, 45.10it/s]"
     ]
    },
    {
     "name": "stdout",
     "output_type": "stream",
     "text": [
      "Iter 272/1000 - Loss: 28802.197   log_lengthscale: -8.132   log_noise: 2.036\n",
      "Iter 273/1000 - Loss: 29899.473   log_lengthscale: -8.293   log_noise: 2.038\n",
      "Iter 274/1000 - Loss: 28015.609   log_lengthscale: -8.503   log_noise: 2.040\n",
      "Iter 275/1000 - Loss: 28174.531   log_lengthscale: -8.701   log_noise: 2.042\n",
      "Iter 276/1000 - Loss: 26321.998   log_lengthscale: -8.638   log_noise: 2.044\n"
     ]
    },
    {
     "name": "stderr",
     "output_type": "stream",
     "text": [
      "\r",
      " 28%|█████████████████████▊                                                         | 276/1000 [00:06<00:16, 45.24it/s]"
     ]
    },
    {
     "name": "stdout",
     "output_type": "stream",
     "text": [
      "Iter 277/1000 - Loss: 26290.912   log_lengthscale: -8.576   log_noise: 2.045\n",
      "Iter 278/1000 - Loss: 27720.438   log_lengthscale: -8.479   log_noise: 2.047\n",
      "Iter 279/1000 - Loss: 25994.539   log_lengthscale: -8.431   log_noise: 2.049\n",
      "Iter 280/1000 - Loss: 26315.611   log_lengthscale: -8.416   log_noise: 2.051\n",
      "Iter 281/1000 - Loss: 26226.029   log_lengthscale: -8.388   log_noise: 2.053\n"
     ]
    },
    {
     "name": "stderr",
     "output_type": "stream",
     "text": [
      "\r",
      " 28%|██████████████████████▏                                                        | 281/1000 [00:06<00:15, 45.59it/s]"
     ]
    },
    {
     "name": "stdout",
     "output_type": "stream",
     "text": [
      "Iter 282/1000 - Loss: 26084.209   log_lengthscale: -8.389   log_noise: 2.054\n",
      "Iter 283/1000 - Loss: 25952.838   log_lengthscale: -8.347   log_noise: 2.056\n",
      "Iter 284/1000 - Loss: 27715.990   log_lengthscale: -8.301   log_noise: 2.058\n",
      "Iter 285/1000 - Loss: 26142.162   log_lengthscale: -8.246   log_noise: 2.059\n",
      "Iter 286/1000 - Loss: 27577.068   log_lengthscale: -8.182   log_noise: 2.061\n"
     ]
    },
    {
     "name": "stderr",
     "output_type": "stream",
     "text": [
      "\r",
      " 29%|██████████████████████▌                                                        | 286/1000 [00:06<00:15, 45.22it/s]"
     ]
    },
    {
     "name": "stdout",
     "output_type": "stream",
     "text": [
      "Iter 287/1000 - Loss: 28097.332   log_lengthscale: -8.187   log_noise: 2.063\n",
      "Iter 288/1000 - Loss: 31324.938   log_lengthscale: -8.197   log_noise: 2.064\n",
      "Iter 289/1000 - Loss: 28645.027   log_lengthscale: -8.218   log_noise: 2.066\n",
      "Iter 290/1000 - Loss: 25810.121   log_lengthscale: -8.218   log_noise: 2.068\n",
      "Iter 291/1000 - Loss: 26197.227   log_lengthscale: -8.207   log_noise: 2.070\n"
     ]
    },
    {
     "name": "stderr",
     "output_type": "stream",
     "text": [
      "\r",
      " 29%|██████████████████████▉                                                        | 291/1000 [00:06<00:15, 45.82it/s]"
     ]
    },
    {
     "name": "stdout",
     "output_type": "stream",
     "text": [
      "Iter 292/1000 - Loss: 27395.609   log_lengthscale: -8.193   log_noise: 2.072\n",
      "Iter 293/1000 - Loss: 27244.600   log_lengthscale: -8.180   log_noise: 2.074\n",
      "Iter 294/1000 - Loss: 26969.910   log_lengthscale: -8.189   log_noise: 2.075\n",
      "Iter 295/1000 - Loss: 25599.188   log_lengthscale: -8.201   log_noise: 2.077\n",
      "Iter 296/1000 - Loss: 27286.922   log_lengthscale: -8.197   log_noise: 2.079\n"
     ]
    },
    {
     "name": "stderr",
     "output_type": "stream",
     "text": [
      "\r",
      " 30%|███████████████████████▍                                                       | 296/1000 [00:06<00:15, 45.37it/s]"
     ]
    },
    {
     "name": "stdout",
     "output_type": "stream",
     "text": [
      "Iter 297/1000 - Loss: 26283.773   log_lengthscale: -8.209   log_noise: 2.081\n",
      "Iter 298/1000 - Loss: 25631.857   log_lengthscale: -8.249   log_noise: 2.083\n",
      "Iter 299/1000 - Loss: 26818.777   log_lengthscale: -8.292   log_noise: 2.084\n",
      "Iter 300/1000 - Loss: 25023.129   log_lengthscale: -8.353   log_noise: 2.086\n",
      "Iter 301/1000 - Loss: 25251.289   log_lengthscale: -8.397   log_noise: 2.088\n"
     ]
    },
    {
     "name": "stderr",
     "output_type": "stream",
     "text": [
      "\r",
      " 30%|███████████████████████▊                                                       | 301/1000 [00:06<00:15, 45.31it/s]"
     ]
    },
    {
     "name": "stdout",
     "output_type": "stream",
     "text": [
      "Iter 302/1000 - Loss: 25292.908   log_lengthscale: -8.415   log_noise: 2.089\n",
      "Iter 303/1000 - Loss: 24974.398   log_lengthscale: -8.445   log_noise: 2.091\n",
      "Iter 304/1000 - Loss: 26599.232   log_lengthscale: -8.473   log_noise: 2.093\n",
      "Iter 305/1000 - Loss: 30410.514   log_lengthscale: -8.522   log_noise: 2.094\n",
      "Iter 306/1000 - Loss: 25150.498   log_lengthscale: -8.669   log_noise: 2.096\n"
     ]
    },
    {
     "name": "stderr",
     "output_type": "stream",
     "text": [
      "\r",
      " 31%|████████████████████████▏                                                      | 306/1000 [00:06<00:15, 45.27it/s]"
     ]
    },
    {
     "name": "stdout",
     "output_type": "stream",
     "text": [
      "Iter 307/1000 - Loss: 26851.613   log_lengthscale: -8.837   log_noise: 2.098\n",
      "Iter 308/1000 - Loss: 25127.008   log_lengthscale: -9.057   log_noise: 2.099\n",
      "Iter 309/1000 - Loss: 25452.029   log_lengthscale: -9.264   log_noise: 2.101\n",
      "Iter 310/1000 - Loss: 25017.379   log_lengthscale: -9.484   log_noise: 2.103\n",
      "Iter 311/1000 - Loss: 24888.621   log_lengthscale: -9.623   log_noise: 2.104\n"
     ]
    },
    {
     "name": "stderr",
     "output_type": "stream",
     "text": [
      "\r",
      " 31%|████████████████████████▌                                                      | 311/1000 [00:06<00:15, 45.24it/s]"
     ]
    },
    {
     "name": "stdout",
     "output_type": "stream",
     "text": [
      "Iter 312/1000 - Loss: 27894.578   log_lengthscale: -9.676   log_noise: 2.106\n",
      "Iter 313/1000 - Loss: 24925.783   log_lengthscale: -9.756   log_noise: 2.107\n",
      "Iter 314/1000 - Loss: 24654.998   log_lengthscale: -9.771   log_noise: 2.109\n",
      "Iter 315/1000 - Loss: 24547.203   log_lengthscale: -9.790   log_noise: 2.111\n",
      "Iter 316/1000 - Loss: 26164.230   log_lengthscale: -9.841   log_noise: 2.112\n"
     ]
    },
    {
     "name": "stderr",
     "output_type": "stream",
     "text": [
      "\r",
      " 32%|████████████████████████▉                                                      | 316/1000 [00:07<00:14, 46.09it/s]"
     ]
    },
    {
     "name": "stdout",
     "output_type": "stream",
     "text": [
      "Iter 317/1000 - Loss: 24437.512   log_lengthscale: -9.704   log_noise: 2.114\n",
      "Iter 318/1000 - Loss: 29217.021   log_lengthscale: -9.574   log_noise: 2.115\n",
      "Iter 319/1000 - Loss: 26148.877   log_lengthscale: -9.560   log_noise: 2.117\n",
      "Iter 320/1000 - Loss: 25817.311   log_lengthscale: -9.650   log_noise: 2.119\n",
      "Iter 321/1000 - Loss: 24455.850   log_lengthscale: -9.767   log_noise: 2.120\n"
     ]
    },
    {
     "name": "stderr",
     "output_type": "stream",
     "text": [
      "\r",
      " 32%|█████████████████████████▎                                                     | 321/1000 [00:07<00:14, 46.57it/s]"
     ]
    },
    {
     "name": "stdout",
     "output_type": "stream",
     "text": [
      "Iter 322/1000 - Loss: 25891.566   log_lengthscale: -9.838   log_noise: 2.122\n",
      "Iter 323/1000 - Loss: 28657.291   log_lengthscale: -9.886   log_noise: 2.124\n",
      "Iter 324/1000 - Loss: 24324.621   log_lengthscale: -10.037   log_noise: 2.125\n",
      "Iter 325/1000 - Loss: 24189.332   log_lengthscale: -10.192   log_noise: 2.127\n",
      "Iter 326/1000 - Loss: 24298.863   log_lengthscale: -10.303   log_noise: 2.129\n"
     ]
    },
    {
     "name": "stderr",
     "output_type": "stream",
     "text": [
      "\r",
      " 33%|█████████████████████████▊                                                     | 326/1000 [00:07<00:14, 46.66it/s]"
     ]
    },
    {
     "name": "stdout",
     "output_type": "stream",
     "text": [
      "Iter 327/1000 - Loss: 25752.834   log_lengthscale: -10.372   log_noise: 2.131\n",
      "Iter 328/1000 - Loss: 23424.918   log_lengthscale: -10.422   log_noise: 2.132\n",
      "Iter 329/1000 - Loss: 24547.348   log_lengthscale: -10.472   log_noise: 2.134\n",
      "Iter 330/1000 - Loss: 29009.152   log_lengthscale: -10.584   log_noise: 2.135\n",
      "Iter 331/1000 - Loss: 24338.094   log_lengthscale: -10.777   log_noise: 2.137\n"
     ]
    },
    {
     "name": "stderr",
     "output_type": "stream",
     "text": [
      "\r",
      " 33%|██████████████████████████▏                                                    | 331/1000 [00:07<00:14, 47.11it/s]"
     ]
    },
    {
     "name": "stdout",
     "output_type": "stream",
     "text": [
      "Iter 332/1000 - Loss: 23895.473   log_lengthscale: -10.994   log_noise: 2.139\n",
      "Iter 333/1000 - Loss: 25448.168   log_lengthscale: -11.240   log_noise: 2.140\n",
      "Iter 334/1000 - Loss: 24244.254   log_lengthscale: -11.489   log_noise: 2.142\n",
      "Iter 335/1000 - Loss: 25336.908   log_lengthscale: -11.613   log_noise: 2.144\n",
      "Iter 336/1000 - Loss: 24054.146   log_lengthscale: -11.755   log_noise: 2.145\n"
     ]
    },
    {
     "name": "stderr",
     "output_type": "stream",
     "text": [
      "\r",
      " 34%|██████████████████████████▌                                                    | 336/1000 [00:07<00:14, 46.25it/s]"
     ]
    },
    {
     "name": "stdout",
     "output_type": "stream",
     "text": [
      "Iter 337/1000 - Loss: 24346.520   log_lengthscale: -11.710   log_noise: 2.147\n",
      "Iter 338/1000 - Loss: 23865.230   log_lengthscale: -11.696   log_noise: 2.148\n",
      "Iter 339/1000 - Loss: 25428.049   log_lengthscale: -11.807   log_noise: 2.150\n",
      "Iter 340/1000 - Loss: 23904.822   log_lengthscale: -11.802   log_noise: 2.151\n",
      "Iter 341/1000 - Loss: 25255.150   log_lengthscale: -11.683   log_noise: 2.152\n"
     ]
    },
    {
     "name": "stderr",
     "output_type": "stream",
     "text": [
      "\r",
      " 34%|██████████████████████████▉                                                    | 341/1000 [00:07<00:14, 46.56it/s]"
     ]
    },
    {
     "name": "stdout",
     "output_type": "stream",
     "text": [
      "Iter 342/1000 - Loss: 24973.318   log_lengthscale: -11.658   log_noise: 2.154\n",
      "Iter 343/1000 - Loss: 23377.998   log_lengthscale: -11.699   log_noise: 2.155\n",
      "Iter 344/1000 - Loss: 23695.848   log_lengthscale: -11.815   log_noise: 2.157\n",
      "Iter 345/1000 - Loss: 27945.398   log_lengthscale: -11.976   log_noise: 2.158\n",
      "Iter 346/1000 - Loss: 23522.326   log_lengthscale: -12.180   log_noise: 2.160\n"
     ]
    },
    {
     "name": "stderr",
     "output_type": "stream",
     "text": [
      "\r",
      " 35%|███████████████████████████▎                                                   | 346/1000 [00:07<00:13, 46.78it/s]"
     ]
    },
    {
     "name": "stdout",
     "output_type": "stream",
     "text": [
      "Iter 347/1000 - Loss: 27296.916   log_lengthscale: -12.288   log_noise: 2.161\n",
      "Iter 348/1000 - Loss: 23441.467   log_lengthscale: -12.478   log_noise: 2.163\n",
      "Iter 349/1000 - Loss: 24797.988   log_lengthscale: -12.595   log_noise: 2.165\n",
      "Iter 350/1000 - Loss: 23508.359   log_lengthscale: -12.620   log_noise: 2.166\n",
      "Iter 351/1000 - Loss: 24407.162   log_lengthscale: -12.697   log_noise: 2.168\n"
     ]
    },
    {
     "name": "stderr",
     "output_type": "stream",
     "text": [
      "\r",
      " 35%|███████████████████████████▋                                                   | 351/1000 [00:07<00:13, 46.54it/s]"
     ]
    },
    {
     "name": "stdout",
     "output_type": "stream",
     "text": [
      "Iter 352/1000 - Loss: 23543.008   log_lengthscale: -12.867   log_noise: 2.169\n",
      "Iter 353/1000 - Loss: 24898.668   log_lengthscale: -13.023   log_noise: 2.171\n",
      "Iter 354/1000 - Loss: 23207.838   log_lengthscale: -13.242   log_noise: 2.172\n",
      "Iter 355/1000 - Loss: 23381.600   log_lengthscale: -13.445   log_noise: 2.173\n",
      "Iter 356/1000 - Loss: 23042.803   log_lengthscale: -13.628   log_noise: 2.175\n"
     ]
    },
    {
     "name": "stderr",
     "output_type": "stream",
     "text": [
      "\r",
      " 36%|████████████████████████████                                                   | 356/1000 [00:07<00:13, 47.43it/s]"
     ]
    },
    {
     "name": "stdout",
     "output_type": "stream",
     "text": [
      "Iter 357/1000 - Loss: 23404.387   log_lengthscale: -13.539   log_noise: 2.176\n",
      "Iter 358/1000 - Loss: 23241.129   log_lengthscale: -13.511   log_noise: 2.178\n",
      "Iter 359/1000 - Loss: 24589.408   log_lengthscale: -13.476   log_noise: 2.179\n",
      "Iter 360/1000 - Loss: 22638.438   log_lengthscale: -13.458   log_noise: 2.180\n",
      "Iter 361/1000 - Loss: 22986.260   log_lengthscale: -13.485   log_noise: 2.181\n"
     ]
    },
    {
     "name": "stderr",
     "output_type": "stream",
     "text": [
      "\r",
      " 36%|████████████████████████████▌                                                  | 361/1000 [00:08<00:13, 46.86it/s]"
     ]
    },
    {
     "name": "stdout",
     "output_type": "stream",
     "text": [
      "Iter 362/1000 - Loss: 23232.354   log_lengthscale: -13.499   log_noise: 2.183\n",
      "Iter 363/1000 - Loss: 22669.760   log_lengthscale: -13.493   log_noise: 2.184\n",
      "Iter 364/1000 - Loss: 22936.340   log_lengthscale: -13.467   log_noise: 2.185\n",
      "Iter 365/1000 - Loss: 24444.477   log_lengthscale: -13.497   log_noise: 2.186\n",
      "Iter 366/1000 - Loss: 22843.887   log_lengthscale: -13.638   log_noise: 2.188\n"
     ]
    },
    {
     "name": "stderr",
     "output_type": "stream",
     "text": [
      "\r",
      " 37%|████████████████████████████▉                                                  | 366/1000 [00:08<00:13, 45.58it/s]"
     ]
    },
    {
     "name": "stdout",
     "output_type": "stream",
     "text": [
      "Iter 367/1000 - Loss: 23152.148   log_lengthscale: -13.816   log_noise: 2.189\n",
      "Iter 368/1000 - Loss: 23120.332   log_lengthscale: -13.816   log_noise: 2.190\n",
      "Iter 369/1000 - Loss: 23088.561   log_lengthscale: -13.816   log_noise: 2.191\n",
      "Iter 370/1000 - Loss: 23056.828   log_lengthscale: -13.816   log_noise: 2.193\n",
      "Iter 371/1000 - Loss: 23025.148   log_lengthscale: -13.816   log_noise: 2.194\n"
     ]
    },
    {
     "name": "stderr",
     "output_type": "stream",
     "text": [
      "\r",
      " 37%|█████████████████████████████▎                                                 | 371/1000 [00:08<00:13, 45.83it/s]"
     ]
    },
    {
     "name": "stdout",
     "output_type": "stream",
     "text": [
      "Iter 372/1000 - Loss: 22993.521   log_lengthscale: -13.816   log_noise: 2.195\n",
      "Iter 373/1000 - Loss: 22961.967   log_lengthscale: -13.816   log_noise: 2.196\n",
      "Iter 374/1000 - Loss: 22930.488   log_lengthscale: -13.816   log_noise: 2.197\n",
      "Iter 375/1000 - Loss: 22899.078   log_lengthscale: -13.816   log_noise: 2.198\n",
      "Iter 376/1000 - Loss: 22867.748   log_lengthscale: -13.816   log_noise: 2.199\n"
     ]
    },
    {
     "name": "stderr",
     "output_type": "stream",
     "text": [
      "\r",
      " 38%|█████████████████████████████▋                                                 | 376/1000 [00:08<00:13, 46.00it/s]"
     ]
    },
    {
     "name": "stdout",
     "output_type": "stream",
     "text": [
      "Iter 377/1000 - Loss: 22836.504   log_lengthscale: -13.816   log_noise: 2.200\n",
      "Iter 378/1000 - Loss: 22805.363   log_lengthscale: -13.816   log_noise: 2.202\n",
      "Iter 379/1000 - Loss: 22774.297   log_lengthscale: -13.816   log_noise: 2.203\n",
      "Iter 380/1000 - Loss: 22743.332   log_lengthscale: -13.816   log_noise: 2.204\n",
      "Iter 381/1000 - Loss: 22712.471   log_lengthscale: -13.816   log_noise: 2.205\n"
     ]
    },
    {
     "name": "stderr",
     "output_type": "stream",
     "text": [
      "\r",
      " 38%|██████████████████████████████                                                 | 381/1000 [00:08<00:13, 45.87it/s]"
     ]
    },
    {
     "name": "stdout",
     "output_type": "stream",
     "text": [
      "Iter 382/1000 - Loss: 22681.709   log_lengthscale: -13.816   log_noise: 2.206\n",
      "Iter 383/1000 - Loss: 22651.041   log_lengthscale: -13.816   log_noise: 2.207\n",
      "Iter 384/1000 - Loss: 22620.479   log_lengthscale: -13.816   log_noise: 2.208\n",
      "Iter 385/1000 - Loss: 22590.027   log_lengthscale: -13.816   log_noise: 2.209\n",
      "Iter 386/1000 - Loss: 22559.674   log_lengthscale: -13.816   log_noise: 2.210\n"
     ]
    },
    {
     "name": "stderr",
     "output_type": "stream",
     "text": [
      "\r",
      " 39%|██████████████████████████████▍                                                | 386/1000 [00:08<00:13, 46.42it/s]"
     ]
    },
    {
     "name": "stdout",
     "output_type": "stream",
     "text": [
      "Iter 387/1000 - Loss: 22529.430   log_lengthscale: -13.816   log_noise: 2.211\n",
      "Iter 388/1000 - Loss: 22499.299   log_lengthscale: -13.816   log_noise: 2.212\n",
      "Iter 389/1000 - Loss: 22469.273   log_lengthscale: -13.816   log_noise: 2.213\n",
      "Iter 390/1000 - Loss: 22439.354   log_lengthscale: -13.816   log_noise: 2.214\n",
      "Iter 391/1000 - Loss: 22409.541   log_lengthscale: -13.816   log_noise: 2.215\n"
     ]
    },
    {
     "name": "stderr",
     "output_type": "stream",
     "text": [
      "\r",
      " 39%|██████████████████████████████▉                                                | 391/1000 [00:08<00:13, 46.55it/s]"
     ]
    },
    {
     "name": "stdout",
     "output_type": "stream",
     "text": [
      "Iter 392/1000 - Loss: 22379.844   log_lengthscale: -13.816   log_noise: 2.216\n",
      "Iter 393/1000 - Loss: 22350.246   log_lengthscale: -13.816   log_noise: 2.217\n",
      "Iter 394/1000 - Loss: 22320.770   log_lengthscale: -13.816   log_noise: 2.218\n",
      "Iter 395/1000 - Loss: 22291.396   log_lengthscale: -13.816   log_noise: 2.219\n",
      "Iter 396/1000 - Loss: 22262.139   log_lengthscale: -13.816   log_noise: 2.220\n"
     ]
    },
    {
     "name": "stderr",
     "output_type": "stream",
     "text": [
      "\r",
      " 40%|███████████████████████████████▎                                               | 396/1000 [00:08<00:12, 47.03it/s]"
     ]
    },
    {
     "name": "stdout",
     "output_type": "stream",
     "text": [
      "Iter 397/1000 - Loss: 22232.992   log_lengthscale: -13.816   log_noise: 2.221\n",
      "Iter 398/1000 - Loss: 22203.930   log_lengthscale: -13.816   log_noise: 2.222\n",
      "Iter 399/1000 - Loss: 22174.998   log_lengthscale: -13.816   log_noise: 2.223\n",
      "Iter 400/1000 - Loss: 22146.172   log_lengthscale: -13.816   log_noise: 2.224\n",
      "Iter 401/1000 - Loss: 22117.463   log_lengthscale: -13.816   log_noise: 2.225\n"
     ]
    },
    {
     "name": "stderr",
     "output_type": "stream",
     "text": [
      "\r",
      " 40%|███████████████████████████████▋                                               | 401/1000 [00:08<00:13, 45.95it/s]"
     ]
    },
    {
     "name": "stdout",
     "output_type": "stream",
     "text": [
      "Iter 402/1000 - Loss: 22088.848   log_lengthscale: -13.816   log_noise: 2.226\n",
      "Iter 403/1000 - Loss: 22060.350   log_lengthscale: -13.816   log_noise: 2.227\n",
      "Iter 404/1000 - Loss: 22031.943   log_lengthscale: -13.816   log_noise: 2.228\n",
      "Iter 405/1000 - Loss: 22003.656   log_lengthscale: -13.816   log_noise: 2.229\n",
      "Iter 406/1000 - Loss: 21975.477   log_lengthscale: -13.816   log_noise: 2.230\n"
     ]
    },
    {
     "name": "stderr",
     "output_type": "stream",
     "text": [
      "\r",
      " 41%|████████████████████████████████                                               | 406/1000 [00:08<00:12, 46.47it/s]"
     ]
    },
    {
     "name": "stdout",
     "output_type": "stream",
     "text": [
      "Iter 407/1000 - Loss: 21947.393   log_lengthscale: -13.816   log_noise: 2.231\n",
      "Iter 408/1000 - Loss: 21919.418   log_lengthscale: -13.816   log_noise: 2.232\n",
      "Iter 409/1000 - Loss: 21891.547   log_lengthscale: -13.816   log_noise: 2.233\n",
      "Iter 410/1000 - Loss: 21863.787   log_lengthscale: -13.816   log_noise: 2.234\n",
      "Iter 411/1000 - Loss: 21836.119   log_lengthscale: -13.816   log_noise: 2.235\n"
     ]
    },
    {
     "name": "stderr",
     "output_type": "stream",
     "text": [
      "\r",
      " 41%|████████████████████████████████▍                                              | 411/1000 [00:09<00:12, 46.85it/s]"
     ]
    },
    {
     "name": "stdout",
     "output_type": "stream",
     "text": [
      "Iter 412/1000 - Loss: 21808.568   log_lengthscale: -13.816   log_noise: 2.236\n",
      "Iter 413/1000 - Loss: 21781.104   log_lengthscale: -13.816   log_noise: 2.237\n",
      "Iter 414/1000 - Loss: 21753.758   log_lengthscale: -13.816   log_noise: 2.238\n",
      "Iter 415/1000 - Loss: 21726.496   log_lengthscale: -13.816   log_noise: 2.239\n",
      "Iter 416/1000 - Loss: 21699.338   log_lengthscale: -13.816   log_noise: 2.240\n"
     ]
    },
    {
     "name": "stderr",
     "output_type": "stream",
     "text": [
      "\r",
      " 42%|████████████████████████████████▊                                              | 416/1000 [00:09<00:12, 47.11it/s]"
     ]
    },
    {
     "name": "stdout",
     "output_type": "stream",
     "text": [
      "Iter 417/1000 - Loss: 21672.291   log_lengthscale: -13.816   log_noise: 2.241\n",
      "Iter 418/1000 - Loss: 21645.334   log_lengthscale: -13.816   log_noise: 2.242\n",
      "Iter 419/1000 - Loss: 21618.486   log_lengthscale: -13.816   log_noise: 2.243\n",
      "Iter 420/1000 - Loss: 21591.721   log_lengthscale: -13.816   log_noise: 2.244\n",
      "Iter 421/1000 - Loss: 21565.068   log_lengthscale: -13.816   log_noise: 2.244\n"
     ]
    },
    {
     "name": "stderr",
     "output_type": "stream",
     "text": [
      "\r",
      " 42%|█████████████████████████████████▎                                             | 421/1000 [00:09<00:12, 47.44it/s]"
     ]
    },
    {
     "name": "stdout",
     "output_type": "stream",
     "text": [
      "Iter 422/1000 - Loss: 21538.500   log_lengthscale: -13.816   log_noise: 2.245\n",
      "Iter 423/1000 - Loss: 21512.037   log_lengthscale: -13.816   log_noise: 2.246\n",
      "Iter 424/1000 - Loss: 21485.666   log_lengthscale: -13.816   log_noise: 2.247\n",
      "Iter 425/1000 - Loss: 21459.391   log_lengthscale: -13.816   log_noise: 2.248\n",
      "Iter 426/1000 - Loss: 21433.209   log_lengthscale: -13.816   log_noise: 2.249\n"
     ]
    },
    {
     "name": "stderr",
     "output_type": "stream",
     "text": [
      "\r",
      " 43%|█████████████████████████████████▋                                             | 426/1000 [00:09<00:12, 47.53it/s]"
     ]
    },
    {
     "name": "stdout",
     "output_type": "stream",
     "text": [
      "Iter 427/1000 - Loss: 21407.121   log_lengthscale: -13.816   log_noise: 2.250\n",
      "Iter 428/1000 - Loss: 21381.129   log_lengthscale: -13.816   log_noise: 2.251\n",
      "Iter 429/1000 - Loss: 21355.240   log_lengthscale: -13.816   log_noise: 2.252\n",
      "Iter 430/1000 - Loss: 21329.430   log_lengthscale: -13.816   log_noise: 2.253\n",
      "Iter 431/1000 - Loss: 21303.707   log_lengthscale: -13.816   log_noise: 2.254\n"
     ]
    },
    {
     "name": "stderr",
     "output_type": "stream",
     "text": [
      "\r",
      " 43%|██████████████████████████████████                                             | 431/1000 [00:09<00:11, 47.59it/s]"
     ]
    },
    {
     "name": "stdout",
     "output_type": "stream",
     "text": [
      "Iter 432/1000 - Loss: 21278.080   log_lengthscale: -13.816   log_noise: 2.255\n",
      "Iter 433/1000 - Loss: 21252.549   log_lengthscale: -13.816   log_noise: 2.256\n",
      "Iter 434/1000 - Loss: 21227.107   log_lengthscale: -13.816   log_noise: 2.257\n",
      "Iter 435/1000 - Loss: 21201.754   log_lengthscale: -13.816   log_noise: 2.258\n",
      "Iter 436/1000 - Loss: 21176.488   log_lengthscale: -13.816   log_noise: 2.258\n"
     ]
    },
    {
     "name": "stderr",
     "output_type": "stream",
     "text": [
      "\r",
      " 44%|██████████████████████████████████▍                                            | 436/1000 [00:09<00:11, 47.24it/s]"
     ]
    },
    {
     "name": "stdout",
     "output_type": "stream",
     "text": [
      "Iter 437/1000 - Loss: 21151.312   log_lengthscale: -13.816   log_noise: 2.259\n",
      "Iter 438/1000 - Loss: 21126.217   log_lengthscale: -13.816   log_noise: 2.260\n",
      "Iter 439/1000 - Loss: 21101.221   log_lengthscale: -13.816   log_noise: 2.261\n",
      "Iter 440/1000 - Loss: 21076.316   log_lengthscale: -13.816   log_noise: 2.262\n",
      "Iter 441/1000 - Loss: 21051.482   log_lengthscale: -13.816   log_noise: 2.263\n"
     ]
    },
    {
     "name": "stderr",
     "output_type": "stream",
     "text": [
      "\r",
      " 44%|██████████████████████████████████▊                                            | 441/1000 [00:09<00:11, 47.52it/s]"
     ]
    },
    {
     "name": "stdout",
     "output_type": "stream",
     "text": [
      "Iter 442/1000 - Loss: 21026.752   log_lengthscale: -13.816   log_noise: 2.264\n",
      "Iter 443/1000 - Loss: 21002.078   log_lengthscale: -13.816   log_noise: 2.265\n",
      "Iter 444/1000 - Loss: 20977.514   log_lengthscale: -13.816   log_noise: 2.266\n",
      "Iter 445/1000 - Loss: 20953.031   log_lengthscale: -13.816   log_noise: 2.267\n",
      "Iter 446/1000 - Loss: 20928.631   log_lengthscale: -13.816   log_noise: 2.268\n"
     ]
    },
    {
     "name": "stderr",
     "output_type": "stream",
     "text": [
      "\r",
      " 45%|███████████████████████████████████▏                                           | 446/1000 [00:09<00:11, 47.45it/s]"
     ]
    },
    {
     "name": "stdout",
     "output_type": "stream",
     "text": [
      "Iter 447/1000 - Loss: 20904.312   log_lengthscale: -13.816   log_noise: 2.269\n",
      "Iter 448/1000 - Loss: 20880.068   log_lengthscale: -13.816   log_noise: 2.269\n",
      "Iter 449/1000 - Loss: 20855.922   log_lengthscale: -13.816   log_noise: 2.270\n",
      "Iter 450/1000 - Loss: 20831.852   log_lengthscale: -13.816   log_noise: 2.271\n",
      "Iter 451/1000 - Loss: 20807.850   log_lengthscale: -13.816   log_noise: 2.272\n"
     ]
    },
    {
     "name": "stderr",
     "output_type": "stream",
     "text": [
      "\r",
      " 45%|███████████████████████████████████▋                                           | 451/1000 [00:09<00:11, 47.27it/s]"
     ]
    },
    {
     "name": "stdout",
     "output_type": "stream",
     "text": [
      "Iter 452/1000 - Loss: 20783.941   log_lengthscale: -13.816   log_noise: 2.273\n",
      "Iter 453/1000 - Loss: 20760.119   log_lengthscale: -13.816   log_noise: 2.274\n",
      "Iter 454/1000 - Loss: 20736.357   log_lengthscale: -13.816   log_noise: 2.275\n",
      "Iter 455/1000 - Loss: 20712.689   log_lengthscale: -13.816   log_noise: 2.276\n",
      "Iter 456/1000 - Loss: 20689.111   log_lengthscale: -13.816   log_noise: 2.277\n"
     ]
    },
    {
     "name": "stderr",
     "output_type": "stream",
     "text": [
      "\r",
      " 46%|████████████████████████████████████                                           | 456/1000 [00:10<00:11, 47.55it/s]"
     ]
    },
    {
     "name": "stdout",
     "output_type": "stream",
     "text": [
      "Iter 457/1000 - Loss: 20665.594   log_lengthscale: -13.816   log_noise: 2.277\n",
      "Iter 458/1000 - Loss: 20642.158   log_lengthscale: -13.816   log_noise: 2.278\n",
      "Iter 459/1000 - Loss: 20618.799   log_lengthscale: -13.816   log_noise: 2.279\n",
      "Iter 460/1000 - Loss: 20595.521   log_lengthscale: -13.816   log_noise: 2.280\n",
      "Iter 461/1000 - Loss: 20572.332   log_lengthscale: -13.816   log_noise: 2.281\n"
     ]
    },
    {
     "name": "stderr",
     "output_type": "stream",
     "text": [
      "\r",
      " 46%|████████████████████████████████████▍                                          | 461/1000 [00:10<00:11, 47.34it/s]"
     ]
    },
    {
     "name": "stdout",
     "output_type": "stream",
     "text": [
      "Iter 462/1000 - Loss: 20549.201   log_lengthscale: -13.816   log_noise: 2.282\n",
      "Iter 463/1000 - Loss: 20526.143   log_lengthscale: -13.816   log_noise: 2.283\n",
      "Iter 464/1000 - Loss: 20503.174   log_lengthscale: -13.816   log_noise: 2.284\n",
      "Iter 465/1000 - Loss: 20480.277   log_lengthscale: -13.816   log_noise: 2.285\n",
      "Iter 466/1000 - Loss: 20457.447   log_lengthscale: -13.816   log_noise: 2.285\n"
     ]
    },
    {
     "name": "stderr",
     "output_type": "stream",
     "text": [
      "\r",
      " 47%|████████████████████████████████████▊                                          | 466/1000 [00:10<00:11, 47.46it/s]"
     ]
    },
    {
     "name": "stdout",
     "output_type": "stream",
     "text": [
      "Iter 467/1000 - Loss: 20434.699   log_lengthscale: -13.816   log_noise: 2.286\n",
      "Iter 468/1000 - Loss: 20412.023   log_lengthscale: -13.816   log_noise: 2.287\n",
      "Iter 469/1000 - Loss: 20389.422   log_lengthscale: -13.816   log_noise: 2.288\n",
      "Iter 470/1000 - Loss: 20366.893   log_lengthscale: -13.816   log_noise: 2.289\n",
      "Iter 471/1000 - Loss: 20344.432   log_lengthscale: -13.816   log_noise: 2.290\n"
     ]
    },
    {
     "name": "stderr",
     "output_type": "stream",
     "text": [
      "\r",
      " 47%|█████████████████████████████████████▏                                         | 471/1000 [00:10<00:11, 47.14it/s]"
     ]
    },
    {
     "name": "stdout",
     "output_type": "stream",
     "text": [
      "Iter 472/1000 - Loss: 20322.033   log_lengthscale: -13.816   log_noise: 2.291\n",
      "Iter 473/1000 - Loss: 20299.734   log_lengthscale: -13.816   log_noise: 2.292\n",
      "Iter 474/1000 - Loss: 20277.482   log_lengthscale: -13.816   log_noise: 2.292\n",
      "Iter 475/1000 - Loss: 20255.318   log_lengthscale: -13.816   log_noise: 2.293\n",
      "Iter 476/1000 - Loss: 20233.209   log_lengthscale: -13.816   log_noise: 2.294\n"
     ]
    },
    {
     "name": "stderr",
     "output_type": "stream",
     "text": [
      "\r",
      " 48%|█████████████████████████████████████▌                                         | 476/1000 [00:10<00:11, 47.32it/s]"
     ]
    },
    {
     "name": "stdout",
     "output_type": "stream",
     "text": [
      "Iter 477/1000 - Loss: 20211.184   log_lengthscale: -13.816   log_noise: 2.295\n",
      "Iter 478/1000 - Loss: 20189.223   log_lengthscale: -13.816   log_noise: 2.296\n",
      "Iter 479/1000 - Loss: 20167.330   log_lengthscale: -13.816   log_noise: 2.297\n",
      "Iter 480/1000 - Loss: 20145.504   log_lengthscale: -13.816   log_noise: 2.298\n",
      "Iter 481/1000 - Loss: 20123.744   log_lengthscale: -13.816   log_noise: 2.298\n"
     ]
    },
    {
     "name": "stderr",
     "output_type": "stream",
     "text": [
      "\r",
      " 48%|█████████████████████████████████████▉                                         | 481/1000 [00:10<00:10, 47.45it/s]"
     ]
    },
    {
     "name": "stdout",
     "output_type": "stream",
     "text": [
      "Iter 482/1000 - Loss: 20102.066   log_lengthscale: -13.816   log_noise: 2.299\n",
      "Iter 483/1000 - Loss: 20080.445   log_lengthscale: -13.816   log_noise: 2.300\n",
      "Iter 484/1000 - Loss: 20058.889   log_lengthscale: -13.816   log_noise: 2.301\n",
      "Iter 485/1000 - Loss: 20037.410   log_lengthscale: -13.816   log_noise: 2.302\n",
      "Iter 486/1000 - Loss: 20015.992   log_lengthscale: -13.816   log_noise: 2.303\n"
     ]
    },
    {
     "name": "stderr",
     "output_type": "stream",
     "text": [
      "\r",
      " 49%|██████████████████████████████████████▍                                        | 486/1000 [00:10<00:10, 47.00it/s]"
     ]
    },
    {
     "name": "stdout",
     "output_type": "stream",
     "text": [
      "Iter 487/1000 - Loss: 19994.637   log_lengthscale: -13.816   log_noise: 2.304\n",
      "Iter 488/1000 - Loss: 19973.348   log_lengthscale: -13.816   log_noise: 2.304\n",
      "Iter 489/1000 - Loss: 19952.141   log_lengthscale: -13.816   log_noise: 2.305\n",
      "Iter 490/1000 - Loss: 19930.984   log_lengthscale: -13.816   log_noise: 2.306\n",
      "Iter 491/1000 - Loss: 19909.885   log_lengthscale: -13.816   log_noise: 2.307\n"
     ]
    },
    {
     "name": "stderr",
     "output_type": "stream",
     "text": [
      "\r",
      " 49%|██████████████████████████████████████▊                                        | 491/1000 [00:10<00:10, 46.96it/s]"
     ]
    },
    {
     "name": "stdout",
     "output_type": "stream",
     "text": [
      "Iter 492/1000 - Loss: 19888.863   log_lengthscale: -13.816   log_noise: 2.308\n",
      "Iter 493/1000 - Loss: 19867.912   log_lengthscale: -13.816   log_noise: 2.309\n",
      "Iter 494/1000 - Loss: 19847.010   log_lengthscale: -13.816   log_noise: 2.309\n",
      "Iter 495/1000 - Loss: 19826.182   log_lengthscale: -13.816   log_noise: 2.310\n",
      "Iter 496/1000 - Loss: 19805.412   log_lengthscale: -13.816   log_noise: 2.311\n"
     ]
    },
    {
     "name": "stderr",
     "output_type": "stream",
     "text": [
      "\r",
      " 50%|███████████████████████████████████████▏                                       | 496/1000 [00:10<00:10, 47.46it/s]"
     ]
    },
    {
     "name": "stdout",
     "output_type": "stream",
     "text": [
      "Iter 497/1000 - Loss: 19784.697   log_lengthscale: -13.816   log_noise: 2.312\n",
      "Iter 498/1000 - Loss: 19764.057   log_lengthscale: -13.816   log_noise: 2.313\n",
      "Iter 499/1000 - Loss: 19743.473   log_lengthscale: -13.816   log_noise: 2.314\n",
      "Iter 500/1000 - Loss: 19722.957   log_lengthscale: -13.816   log_noise: 2.315\n",
      "Iter 501/1000 - Loss: 19702.492   log_lengthscale: -13.816   log_noise: 2.315\n"
     ]
    },
    {
     "name": "stderr",
     "output_type": "stream",
     "text": [
      "\r",
      " 50%|███████████████████████████████████████▌                                       | 501/1000 [00:10<00:10, 47.14it/s]"
     ]
    },
    {
     "name": "stdout",
     "output_type": "stream",
     "text": [
      "Iter 502/1000 - Loss: 19682.102   log_lengthscale: -13.816   log_noise: 2.316\n",
      "Iter 503/1000 - Loss: 19661.756   log_lengthscale: -13.816   log_noise: 2.317\n",
      "Iter 504/1000 - Loss: 19641.492   log_lengthscale: -13.816   log_noise: 2.318\n",
      "Iter 505/1000 - Loss: 19621.264   log_lengthscale: -13.816   log_noise: 2.319\n",
      "Iter 506/1000 - Loss: 19601.117   log_lengthscale: -13.816   log_noise: 2.319\n"
     ]
    },
    {
     "name": "stderr",
     "output_type": "stream",
     "text": [
      "\r",
      " 51%|███████████████████████████████████████▉                                       | 506/1000 [00:11<00:10, 47.19it/s]"
     ]
    },
    {
     "name": "stdout",
     "output_type": "stream",
     "text": [
      "Iter 507/1000 - Loss: 19581.021   log_lengthscale: -13.816   log_noise: 2.320\n",
      "Iter 508/1000 - Loss: 19560.986   log_lengthscale: -13.816   log_noise: 2.321\n",
      "Iter 509/1000 - Loss: 19541.012   log_lengthscale: -13.816   log_noise: 2.322\n",
      "Iter 510/1000 - Loss: 19521.088   log_lengthscale: -13.816   log_noise: 2.323\n",
      "Iter 511/1000 - Loss: 19501.219   log_lengthscale: -13.816   log_noise: 2.324\n"
     ]
    },
    {
     "name": "stderr",
     "output_type": "stream",
     "text": [
      "\r",
      " 51%|████████████████████████████████████████▎                                      | 511/1000 [00:11<00:10, 47.22it/s]"
     ]
    },
    {
     "name": "stdout",
     "output_type": "stream",
     "text": [
      "Iter 512/1000 - Loss: 19481.424   log_lengthscale: -13.816   log_noise: 2.324\n",
      "Iter 513/1000 - Loss: 19461.678   log_lengthscale: -13.816   log_noise: 2.325\n",
      "Iter 514/1000 - Loss: 19441.994   log_lengthscale: -13.816   log_noise: 2.326\n",
      "Iter 515/1000 - Loss: 19422.363   log_lengthscale: -13.816   log_noise: 2.327\n",
      "Iter 516/1000 - Loss: 19402.795   log_lengthscale: -13.816   log_noise: 2.328\n"
     ]
    },
    {
     "name": "stderr",
     "output_type": "stream",
     "text": [
      "\r",
      " 52%|████████████████████████████████████████▊                                      | 516/1000 [00:11<00:10, 47.11it/s]"
     ]
    },
    {
     "name": "stdout",
     "output_type": "stream",
     "text": [
      "Iter 517/1000 - Loss: 19383.273   log_lengthscale: -13.816   log_noise: 2.329\n",
      "Iter 518/1000 - Loss: 19363.818   log_lengthscale: -13.816   log_noise: 2.329\n",
      "Iter 519/1000 - Loss: 19344.418   log_lengthscale: -13.816   log_noise: 2.330\n",
      "Iter 520/1000 - Loss: 19325.062   log_lengthscale: -13.816   log_noise: 2.331\n",
      "Iter 521/1000 - Loss: 19305.783   log_lengthscale: -13.816   log_noise: 2.332\n"
     ]
    },
    {
     "name": "stderr",
     "output_type": "stream",
     "text": [
      "\r",
      " 52%|█████████████████████████████████████████▏                                     | 521/1000 [00:11<00:10, 47.03it/s]"
     ]
    },
    {
     "name": "stdout",
     "output_type": "stream",
     "text": [
      "Iter 522/1000 - Loss: 19286.541   log_lengthscale: -13.816   log_noise: 2.333\n",
      "Iter 523/1000 - Loss: 19267.359   log_lengthscale: -13.816   log_noise: 2.333\n",
      "Iter 524/1000 - Loss: 19248.227   log_lengthscale: -13.816   log_noise: 2.334\n",
      "Iter 525/1000 - Loss: 19229.158   log_lengthscale: -13.816   log_noise: 2.335\n",
      "Iter 526/1000 - Loss: 19210.139   log_lengthscale: -13.816   log_noise: 2.336\n"
     ]
    },
    {
     "name": "stderr",
     "output_type": "stream",
     "text": [
      "\r",
      " 53%|█████████████████████████████████████████▌                                     | 526/1000 [00:11<00:10, 47.11it/s]"
     ]
    },
    {
     "name": "stdout",
     "output_type": "stream",
     "text": [
      "Iter 527/1000 - Loss: 19191.182   log_lengthscale: -13.816   log_noise: 2.337\n",
      "Iter 528/1000 - Loss: 19172.264   log_lengthscale: -13.816   log_noise: 2.337\n",
      "Iter 529/1000 - Loss: 19153.410   log_lengthscale: -13.816   log_noise: 2.338\n",
      "Iter 530/1000 - Loss: 19134.607   log_lengthscale: -13.816   log_noise: 2.339\n",
      "Iter 531/1000 - Loss: 19115.855   log_lengthscale: -13.816   log_noise: 2.340\n"
     ]
    },
    {
     "name": "stderr",
     "output_type": "stream",
     "text": [
      "\r",
      " 53%|█████████████████████████████████████████▉                                     | 531/1000 [00:11<00:09, 46.90it/s]"
     ]
    },
    {
     "name": "stdout",
     "output_type": "stream",
     "text": [
      "Iter 532/1000 - Loss: 19097.152   log_lengthscale: -13.816   log_noise: 2.341\n",
      "Iter 533/1000 - Loss: 19078.506   log_lengthscale: -13.816   log_noise: 2.341\n",
      "Iter 534/1000 - Loss: 19059.918   log_lengthscale: -13.816   log_noise: 2.342\n",
      "Iter 535/1000 - Loss: 19041.377   log_lengthscale: -13.816   log_noise: 2.343\n",
      "Iter 536/1000 - Loss: 19022.879   log_lengthscale: -13.816   log_noise: 2.344\n"
     ]
    },
    {
     "name": "stderr",
     "output_type": "stream",
     "text": [
      "\r",
      " 54%|██████████████████████████████████████████▎                                    | 536/1000 [00:11<00:09, 47.02it/s]"
     ]
    },
    {
     "name": "stdout",
     "output_type": "stream",
     "text": [
      "Iter 537/1000 - Loss: 19004.445   log_lengthscale: -13.816   log_noise: 2.345\n",
      "Iter 538/1000 - Loss: 18986.049   log_lengthscale: -13.816   log_noise: 2.345\n",
      "Iter 539/1000 - Loss: 18967.721   log_lengthscale: -13.816   log_noise: 2.346\n",
      "Iter 540/1000 - Loss: 18949.434   log_lengthscale: -13.816   log_noise: 2.347\n",
      "Iter 541/1000 - Loss: 18931.193   log_lengthscale: -13.816   log_noise: 2.348\n"
     ]
    },
    {
     "name": "stderr",
     "output_type": "stream",
     "text": [
      "\r",
      " 54%|██████████████████████████████████████████▋                                    | 541/1000 [00:11<00:09, 46.84it/s]"
     ]
    },
    {
     "name": "stdout",
     "output_type": "stream",
     "text": [
      "Iter 542/1000 - Loss: 18913.006   log_lengthscale: -13.816   log_noise: 2.348\n",
      "Iter 543/1000 - Loss: 18894.871   log_lengthscale: -13.816   log_noise: 2.349\n",
      "Iter 544/1000 - Loss: 18876.787   log_lengthscale: -13.816   log_noise: 2.350\n",
      "Iter 545/1000 - Loss: 18858.750   log_lengthscale: -13.816   log_noise: 2.351\n",
      "Iter 546/1000 - Loss: 18840.762   log_lengthscale: -13.816   log_noise: 2.352\n"
     ]
    },
    {
     "name": "stderr",
     "output_type": "stream",
     "text": [
      "\r",
      " 55%|███████████████████████████████████████████▏                                   | 546/1000 [00:11<00:09, 46.58it/s]"
     ]
    },
    {
     "name": "stdout",
     "output_type": "stream",
     "text": [
      "Iter 547/1000 - Loss: 18822.820   log_lengthscale: -13.816   log_noise: 2.352\n",
      "Iter 548/1000 - Loss: 18804.930   log_lengthscale: -13.816   log_noise: 2.353\n",
      "Iter 549/1000 - Loss: 18787.082   log_lengthscale: -13.816   log_noise: 2.354\n",
      "Iter 550/1000 - Loss: 18769.301   log_lengthscale: -13.816   log_noise: 2.355\n",
      "Iter 551/1000 - Loss: 18751.541   log_lengthscale: -13.816   log_noise: 2.355\n"
     ]
    },
    {
     "name": "stderr",
     "output_type": "stream",
     "text": [
      "\r",
      " 55%|███████████████████████████████████████████▌                                   | 551/1000 [00:12<00:09, 46.66it/s]"
     ]
    },
    {
     "name": "stdout",
     "output_type": "stream",
     "text": [
      "Iter 552/1000 - Loss: 18733.842   log_lengthscale: -13.816   log_noise: 2.356\n",
      "Iter 553/1000 - Loss: 18716.193   log_lengthscale: -13.816   log_noise: 2.357\n",
      "Iter 554/1000 - Loss: 18698.584   log_lengthscale: -13.816   log_noise: 2.358\n",
      "Iter 555/1000 - Loss: 18681.031   log_lengthscale: -13.816   log_noise: 2.359\n",
      "Iter 556/1000 - Loss: 18663.518   log_lengthscale: -13.816   log_noise: 2.359\n"
     ]
    },
    {
     "name": "stderr",
     "output_type": "stream",
     "text": [
      "\r",
      " 56%|███████████████████████████████████████████▉                                   | 556/1000 [00:12<00:09, 46.72it/s]"
     ]
    },
    {
     "name": "stdout",
     "output_type": "stream",
     "text": [
      "Iter 557/1000 - Loss: 18646.064   log_lengthscale: -13.816   log_noise: 2.360\n",
      "Iter 558/1000 - Loss: 18628.648   log_lengthscale: -13.816   log_noise: 2.361\n",
      "Iter 559/1000 - Loss: 18611.285   log_lengthscale: -13.816   log_noise: 2.362\n",
      "Iter 560/1000 - Loss: 18593.957   log_lengthscale: -13.816   log_noise: 2.362\n",
      "Iter 561/1000 - Loss: 18576.682   log_lengthscale: -13.816   log_noise: 2.363\n"
     ]
    },
    {
     "name": "stderr",
     "output_type": "stream",
     "text": [
      "\r",
      " 56%|████████████████████████████████████████████▎                                  | 561/1000 [00:12<00:09, 47.16it/s]"
     ]
    },
    {
     "name": "stdout",
     "output_type": "stream",
     "text": [
      "Iter 562/1000 - Loss: 18559.447   log_lengthscale: -13.816   log_noise: 2.364\n",
      "Iter 563/1000 - Loss: 18542.256   log_lengthscale: -13.816   log_noise: 2.365\n",
      "Iter 564/1000 - Loss: 18525.119   log_lengthscale: -13.816   log_noise: 2.365\n",
      "Iter 565/1000 - Loss: 18508.014   log_lengthscale: -13.816   log_noise: 2.366\n",
      "Iter 566/1000 - Loss: 18490.959   log_lengthscale: -13.816   log_noise: 2.367\n"
     ]
    },
    {
     "name": "stderr",
     "output_type": "stream",
     "text": [
      "\r",
      " 57%|████████████████████████████████████████████▋                                  | 566/1000 [00:12<00:09, 46.93it/s]"
     ]
    },
    {
     "name": "stdout",
     "output_type": "stream",
     "text": [
      "Iter 567/1000 - Loss: 18473.967   log_lengthscale: -13.816   log_noise: 2.368\n",
      "Iter 568/1000 - Loss: 18457.000   log_lengthscale: -13.816   log_noise: 2.369\n",
      "Iter 569/1000 - Loss: 18440.080   log_lengthscale: -13.816   log_noise: 2.369\n",
      "Iter 570/1000 - Loss: 18423.207   log_lengthscale: -13.816   log_noise: 2.370\n",
      "Iter 571/1000 - Loss: 18406.365   log_lengthscale: -13.816   log_noise: 2.371\n"
     ]
    },
    {
     "name": "stderr",
     "output_type": "stream",
     "text": [
      "\r",
      " 57%|█████████████████████████████████████████████                                  | 571/1000 [00:12<00:09, 46.78it/s]"
     ]
    },
    {
     "name": "stdout",
     "output_type": "stream",
     "text": [
      "Iter 572/1000 - Loss: 18389.584   log_lengthscale: -13.816   log_noise: 2.372\n",
      "Iter 573/1000 - Loss: 18372.848   log_lengthscale: -13.816   log_noise: 2.372\n",
      "Iter 574/1000 - Loss: 18356.133   log_lengthscale: -13.816   log_noise: 2.373\n",
      "Iter 575/1000 - Loss: 18339.482   log_lengthscale: -13.816   log_noise: 2.374\n",
      "Iter 576/1000 - Loss: 18322.873   log_lengthscale: -13.816   log_noise: 2.375\n"
     ]
    },
    {
     "name": "stderr",
     "output_type": "stream",
     "text": [
      "\r",
      " 58%|█████████████████████████████████████████████▌                                 | 576/1000 [00:12<00:09, 46.80it/s]"
     ]
    },
    {
     "name": "stdout",
     "output_type": "stream",
     "text": [
      "Iter 577/1000 - Loss: 18306.285   log_lengthscale: -13.816   log_noise: 2.375\n",
      "Iter 578/1000 - Loss: 18289.758   log_lengthscale: -13.816   log_noise: 2.376\n",
      "Iter 579/1000 - Loss: 18273.273   log_lengthscale: -13.816   log_noise: 2.377\n",
      "Iter 580/1000 - Loss: 18256.828   log_lengthscale: -13.816   log_noise: 2.378\n",
      "Iter 581/1000 - Loss: 18240.424   log_lengthscale: -13.816   log_noise: 2.378\n"
     ]
    },
    {
     "name": "stderr",
     "output_type": "stream",
     "text": [
      "\r",
      " 58%|█████████████████████████████████████████████▉                                 | 581/1000 [00:12<00:08, 47.08it/s]"
     ]
    },
    {
     "name": "stdout",
     "output_type": "stream",
     "text": [
      "Iter 582/1000 - Loss: 18224.059   log_lengthscale: -13.816   log_noise: 2.379\n",
      "Iter 583/1000 - Loss: 18207.742   log_lengthscale: -13.816   log_noise: 2.380\n",
      "Iter 584/1000 - Loss: 18191.467   log_lengthscale: -13.816   log_noise: 2.381\n",
      "Iter 585/1000 - Loss: 18175.217   log_lengthscale: -13.816   log_noise: 2.381\n",
      "Iter 586/1000 - Loss: 18159.027   log_lengthscale: -13.816   log_noise: 2.382\n"
     ]
    },
    {
     "name": "stderr",
     "output_type": "stream",
     "text": [
      "\r",
      " 59%|██████████████████████████████████████████████▎                                | 586/1000 [00:12<00:08, 47.14it/s]"
     ]
    },
    {
     "name": "stdout",
     "output_type": "stream",
     "text": [
      "Iter 587/1000 - Loss: 18142.863   log_lengthscale: -13.816   log_noise: 2.383\n",
      "Iter 588/1000 - Loss: 18126.750   log_lengthscale: -13.816   log_noise: 2.384\n",
      "Iter 589/1000 - Loss: 18110.668   log_lengthscale: -13.816   log_noise: 2.384\n",
      "Iter 590/1000 - Loss: 18094.639   log_lengthscale: -13.816   log_noise: 2.385\n",
      "Iter 591/1000 - Loss: 18078.639   log_lengthscale: -13.816   log_noise: 2.386\n"
     ]
    },
    {
     "name": "stderr",
     "output_type": "stream",
     "text": [
      "\r",
      " 59%|██████████████████████████████████████████████▋                                | 591/1000 [00:12<00:08, 47.32it/s]"
     ]
    },
    {
     "name": "stdout",
     "output_type": "stream",
     "text": [
      "Iter 592/1000 - Loss: 18062.686   log_lengthscale: -13.816   log_noise: 2.386\n",
      "Iter 593/1000 - Loss: 18046.762   log_lengthscale: -13.816   log_noise: 2.387\n",
      "Iter 594/1000 - Loss: 18030.889   log_lengthscale: -13.816   log_noise: 2.388\n",
      "Iter 595/1000 - Loss: 18015.053   log_lengthscale: -13.816   log_noise: 2.389\n",
      "Iter 596/1000 - Loss: 17999.256   log_lengthscale: -13.816   log_noise: 2.389\n"
     ]
    },
    {
     "name": "stderr",
     "output_type": "stream",
     "text": [
      "\r",
      " 60%|███████████████████████████████████████████████                                | 596/1000 [00:13<00:08, 47.32it/s]"
     ]
    },
    {
     "name": "stdout",
     "output_type": "stream",
     "text": [
      "Iter 597/1000 - Loss: 17983.490   log_lengthscale: -13.816   log_noise: 2.390\n",
      "Iter 598/1000 - Loss: 17967.781   log_lengthscale: -13.816   log_noise: 2.391\n",
      "Iter 599/1000 - Loss: 17952.094   log_lengthscale: -13.816   log_noise: 2.392\n",
      "Iter 600/1000 - Loss: 17936.447   log_lengthscale: -13.816   log_noise: 2.392\n",
      "Iter 601/1000 - Loss: 17920.850   log_lengthscale: -13.816   log_noise: 2.393\n"
     ]
    },
    {
     "name": "stderr",
     "output_type": "stream",
     "text": [
      "\r",
      " 60%|███████████████████████████████████████████████▍                               | 601/1000 [00:13<00:08, 47.44it/s]"
     ]
    },
    {
     "name": "stdout",
     "output_type": "stream",
     "text": [
      "Iter 602/1000 - Loss: 17905.279   log_lengthscale: -13.816   log_noise: 2.394\n",
      "Iter 603/1000 - Loss: 17889.762   log_lengthscale: -13.816   log_noise: 2.394\n",
      "Iter 604/1000 - Loss: 17874.258   log_lengthscale: -13.816   log_noise: 2.395\n",
      "Iter 605/1000 - Loss: 17858.805   log_lengthscale: -13.816   log_noise: 2.396\n",
      "Iter 606/1000 - Loss: 17843.393   log_lengthscale: -13.816   log_noise: 2.397\n"
     ]
    },
    {
     "name": "stderr",
     "output_type": "stream",
     "text": [
      "\r",
      " 61%|███████████████████████████████████████████████▊                               | 606/1000 [00:13<00:08, 47.13it/s]"
     ]
    },
    {
     "name": "stdout",
     "output_type": "stream",
     "text": [
      "Iter 607/1000 - Loss: 17828.012   log_lengthscale: -13.816   log_noise: 2.397\n",
      "Iter 608/1000 - Loss: 17812.674   log_lengthscale: -13.816   log_noise: 2.398\n",
      "Iter 609/1000 - Loss: 17797.367   log_lengthscale: -13.816   log_noise: 2.399\n",
      "Iter 610/1000 - Loss: 17782.105   log_lengthscale: -13.816   log_noise: 2.400\n",
      "Iter 611/1000 - Loss: 17766.871   log_lengthscale: -13.816   log_noise: 2.400\n"
     ]
    },
    {
     "name": "stderr",
     "output_type": "stream",
     "text": [
      "\r",
      " 61%|████████████████████████████████████████████████▎                              | 611/1000 [00:13<00:08, 47.05it/s]"
     ]
    },
    {
     "name": "stdout",
     "output_type": "stream",
     "text": [
      "Iter 612/1000 - Loss: 17751.678   log_lengthscale: -13.816   log_noise: 2.401\n",
      "Iter 613/1000 - Loss: 17736.518   log_lengthscale: -13.816   log_noise: 2.402\n",
      "Iter 614/1000 - Loss: 17721.404   log_lengthscale: -13.816   log_noise: 2.402\n",
      "Iter 615/1000 - Loss: 17706.312   log_lengthscale: -13.816   log_noise: 2.403\n",
      "Iter 616/1000 - Loss: 17691.264   log_lengthscale: -13.816   log_noise: 2.404\n"
     ]
    },
    {
     "name": "stderr",
     "output_type": "stream",
     "text": [
      "\r",
      " 62%|████████████████████████████████████████████████▋                              | 616/1000 [00:13<00:08, 47.80it/s]"
     ]
    },
    {
     "name": "stdout",
     "output_type": "stream",
     "text": [
      "Iter 617/1000 - Loss: 17676.258   log_lengthscale: -13.816   log_noise: 2.405\n",
      "Iter 618/1000 - Loss: 17661.281   log_lengthscale: -13.816   log_noise: 2.405\n",
      "Iter 619/1000 - Loss: 17646.330   log_lengthscale: -13.816   log_noise: 2.406\n",
      "Iter 620/1000 - Loss: 17631.432   log_lengthscale: -13.816   log_noise: 2.407\n",
      "Iter 621/1000 - Loss: 17616.559   log_lengthscale: -13.816   log_noise: 2.407\n"
     ]
    },
    {
     "name": "stderr",
     "output_type": "stream",
     "text": [
      "\r",
      " 62%|█████████████████████████████████████████████████                              | 621/1000 [00:13<00:07, 47.92it/s]"
     ]
    },
    {
     "name": "stdout",
     "output_type": "stream",
     "text": [
      "Iter 622/1000 - Loss: 17601.721   log_lengthscale: -13.816   log_noise: 2.408\n",
      "Iter 623/1000 - Loss: 17586.918   log_lengthscale: -13.816   log_noise: 2.409\n",
      "Iter 624/1000 - Loss: 17572.156   log_lengthscale: -13.816   log_noise: 2.410\n",
      "Iter 625/1000 - Loss: 17557.424   log_lengthscale: -13.816   log_noise: 2.410\n",
      "Iter 626/1000 - Loss: 17542.730   log_lengthscale: -13.816   log_noise: 2.411\n"
     ]
    },
    {
     "name": "stderr",
     "output_type": "stream",
     "text": [
      "\r",
      " 63%|█████████████████████████████████████████████████▍                             | 626/1000 [00:13<00:07, 48.14it/s]"
     ]
    },
    {
     "name": "stdout",
     "output_type": "stream",
     "text": [
      "Iter 627/1000 - Loss: 17528.068   log_lengthscale: -13.816   log_noise: 2.412\n",
      "Iter 628/1000 - Loss: 17513.443   log_lengthscale: -13.816   log_noise: 2.412\n",
      "Iter 629/1000 - Loss: 17498.850   log_lengthscale: -13.816   log_noise: 2.413\n",
      "Iter 630/1000 - Loss: 17484.281   log_lengthscale: -13.816   log_noise: 2.414\n",
      "Iter 631/1000 - Loss: 17469.758   log_lengthscale: -13.816   log_noise: 2.414\n"
     ]
    },
    {
     "name": "stderr",
     "output_type": "stream",
     "text": [
      "\r",
      " 63%|█████████████████████████████████████████████████▊                             | 631/1000 [00:13<00:07, 48.02it/s]"
     ]
    },
    {
     "name": "stdout",
     "output_type": "stream",
     "text": [
      "Iter 632/1000 - Loss: 17455.264   log_lengthscale: -13.816   log_noise: 2.415\n",
      "Iter 633/1000 - Loss: 17440.807   log_lengthscale: -13.816   log_noise: 2.416\n",
      "Iter 634/1000 - Loss: 17426.383   log_lengthscale: -13.816   log_noise: 2.417\n",
      "Iter 635/1000 - Loss: 17411.986   log_lengthscale: -13.816   log_noise: 2.417\n",
      "Iter 636/1000 - Loss: 17397.637   log_lengthscale: -13.816   log_noise: 2.418\n"
     ]
    },
    {
     "name": "stderr",
     "output_type": "stream",
     "text": [
      "\r",
      " 64%|██████████████████████████████████████████████████▏                            | 636/1000 [00:13<00:07, 47.94it/s]"
     ]
    },
    {
     "name": "stdout",
     "output_type": "stream",
     "text": [
      "Iter 637/1000 - Loss: 17383.309   log_lengthscale: -13.816   log_noise: 2.419\n",
      "Iter 638/1000 - Loss: 17369.006   log_lengthscale: -13.816   log_noise: 2.419\n",
      "Iter 639/1000 - Loss: 17354.748   log_lengthscale: -13.816   log_noise: 2.420\n",
      "Iter 640/1000 - Loss: 17340.525   log_lengthscale: -13.816   log_noise: 2.421\n",
      "Iter 641/1000 - Loss: 17326.330   log_lengthscale: -13.816   log_noise: 2.421\n"
     ]
    },
    {
     "name": "stderr",
     "output_type": "stream",
     "text": [
      "\r",
      " 64%|██████████████████████████████████████████████████▋                            | 641/1000 [00:13<00:07, 48.02it/s]"
     ]
    },
    {
     "name": "stdout",
     "output_type": "stream",
     "text": [
      "Iter 642/1000 - Loss: 17312.172   log_lengthscale: -13.816   log_noise: 2.422\n",
      "Iter 643/1000 - Loss: 17298.033   log_lengthscale: -13.816   log_noise: 2.423\n",
      "Iter 644/1000 - Loss: 17283.941   log_lengthscale: -13.816   log_noise: 2.424\n",
      "Iter 645/1000 - Loss: 17269.867   log_lengthscale: -13.816   log_noise: 2.424\n",
      "Iter 646/1000 - Loss: 17255.834   log_lengthscale: -13.816   log_noise: 2.425\n"
     ]
    },
    {
     "name": "stderr",
     "output_type": "stream",
     "text": [
      "\r",
      " 65%|███████████████████████████████████████████████████                            | 646/1000 [00:14<00:07, 48.07it/s]"
     ]
    },
    {
     "name": "stdout",
     "output_type": "stream",
     "text": [
      "Iter 647/1000 - Loss: 17241.830   log_lengthscale: -13.816   log_noise: 2.426\n",
      "Iter 648/1000 - Loss: 17227.859   log_lengthscale: -13.816   log_noise: 2.426\n",
      "Iter 649/1000 - Loss: 17213.926   log_lengthscale: -13.816   log_noise: 2.427\n",
      "Iter 650/1000 - Loss: 17200.018   log_lengthscale: -13.816   log_noise: 2.428\n",
      "Iter 651/1000 - Loss: 17186.141   log_lengthscale: -13.816   log_noise: 2.428\n"
     ]
    },
    {
     "name": "stderr",
     "output_type": "stream",
     "text": [
      "\r",
      " 65%|███████████████████████████████████████████████████▍                           | 651/1000 [00:14<00:07, 47.98it/s]"
     ]
    },
    {
     "name": "stdout",
     "output_type": "stream",
     "text": [
      "Iter 652/1000 - Loss: 17172.293   log_lengthscale: -13.816   log_noise: 2.429\n",
      "Iter 653/1000 - Loss: 17158.479   log_lengthscale: -13.816   log_noise: 2.430\n",
      "Iter 654/1000 - Loss: 17144.695   log_lengthscale: -13.816   log_noise: 2.430\n",
      "Iter 655/1000 - Loss: 17130.938   log_lengthscale: -13.816   log_noise: 2.431\n",
      "Iter 656/1000 - Loss: 17117.219   log_lengthscale: -13.816   log_noise: 2.432\n"
     ]
    },
    {
     "name": "stderr",
     "output_type": "stream",
     "text": [
      "\r",
      " 66%|███████████████████████████████████████████████████▊                           | 656/1000 [00:14<00:07, 47.63it/s]"
     ]
    },
    {
     "name": "stdout",
     "output_type": "stream",
     "text": [
      "Iter 657/1000 - Loss: 17103.527   log_lengthscale: -13.816   log_noise: 2.432\n",
      "Iter 658/1000 - Loss: 17089.871   log_lengthscale: -13.816   log_noise: 2.433\n",
      "Iter 659/1000 - Loss: 17076.236   log_lengthscale: -13.816   log_noise: 2.434\n",
      "Iter 660/1000 - Loss: 17062.627   log_lengthscale: -13.816   log_noise: 2.434\n",
      "Iter 661/1000 - Loss: 17049.059   log_lengthscale: -13.816   log_noise: 2.435\n"
     ]
    },
    {
     "name": "stderr",
     "output_type": "stream",
     "text": [
      "\r",
      " 66%|████████████████████████████████████████████████████▏                          | 661/1000 [00:14<00:07, 48.08it/s]"
     ]
    },
    {
     "name": "stdout",
     "output_type": "stream",
     "text": [
      "Iter 662/1000 - Loss: 17035.527   log_lengthscale: -13.816   log_noise: 2.436\n",
      "Iter 663/1000 - Loss: 17022.012   log_lengthscale: -13.816   log_noise: 2.436\n",
      "Iter 664/1000 - Loss: 17008.520   log_lengthscale: -13.816   log_noise: 2.437\n",
      "Iter 665/1000 - Loss: 16995.082   log_lengthscale: -13.816   log_noise: 2.438\n",
      "Iter 666/1000 - Loss: 16981.656   log_lengthscale: -13.816   log_noise: 2.439\n"
     ]
    },
    {
     "name": "stderr",
     "output_type": "stream",
     "text": [
      "\r",
      " 67%|████████████████████████████████████████████████████▌                          | 666/1000 [00:14<00:06, 47.98it/s]"
     ]
    },
    {
     "name": "stdout",
     "output_type": "stream",
     "text": [
      "Iter 667/1000 - Loss: 16968.266   log_lengthscale: -13.816   log_noise: 2.439\n",
      "Iter 668/1000 - Loss: 16954.896   log_lengthscale: -13.816   log_noise: 2.440\n",
      "Iter 669/1000 - Loss: 16941.564   log_lengthscale: -13.816   log_noise: 2.441\n",
      "Iter 670/1000 - Loss: 16928.264   log_lengthscale: -13.816   log_noise: 2.441\n",
      "Iter 671/1000 - Loss: 16914.984   log_lengthscale: -13.816   log_noise: 2.442\n"
     ]
    },
    {
     "name": "stderr",
     "output_type": "stream",
     "text": [
      "\r",
      " 67%|█████████████████████████████████████████████████████                          | 671/1000 [00:14<00:06, 47.77it/s]"
     ]
    },
    {
     "name": "stdout",
     "output_type": "stream",
     "text": [
      "Iter 672/1000 - Loss: 16901.732   log_lengthscale: -13.816   log_noise: 2.443\n",
      "Iter 673/1000 - Loss: 16888.516   log_lengthscale: -13.816   log_noise: 2.443\n",
      "Iter 674/1000 - Loss: 16875.326   log_lengthscale: -13.816   log_noise: 2.444\n",
      "Iter 675/1000 - Loss: 16862.162   log_lengthscale: -13.816   log_noise: 2.445\n",
      "Iter 676/1000 - Loss: 16849.031   log_lengthscale: -13.816   log_noise: 2.445\n"
     ]
    },
    {
     "name": "stderr",
     "output_type": "stream",
     "text": [
      "\r",
      " 68%|█████████████████████████████████████████████████████▍                         | 676/1000 [00:14<00:06, 47.63it/s]"
     ]
    },
    {
     "name": "stdout",
     "output_type": "stream",
     "text": [
      "Iter 677/1000 - Loss: 16835.922   log_lengthscale: -13.816   log_noise: 2.446\n",
      "Iter 678/1000 - Loss: 16822.852   log_lengthscale: -13.816   log_noise: 2.447\n",
      "Iter 679/1000 - Loss: 16809.801   log_lengthscale: -13.816   log_noise: 2.447\n",
      "Iter 680/1000 - Loss: 16796.781   log_lengthscale: -13.816   log_noise: 2.448\n",
      "Iter 681/1000 - Loss: 16783.783   log_lengthscale: -13.816   log_noise: 2.449\n"
     ]
    },
    {
     "name": "stderr",
     "output_type": "stream",
     "text": [
      "\r",
      " 68%|█████████████████████████████████████████████████████▊                         | 681/1000 [00:14<00:06, 47.80it/s]"
     ]
    },
    {
     "name": "stdout",
     "output_type": "stream",
     "text": [
      "Iter 682/1000 - Loss: 16770.822   log_lengthscale: -13.816   log_noise: 2.449\n",
      "Iter 683/1000 - Loss: 16757.881   log_lengthscale: -13.816   log_noise: 2.450\n",
      "Iter 684/1000 - Loss: 16744.967   log_lengthscale: -13.816   log_noise: 2.451\n",
      "Iter 685/1000 - Loss: 16732.082   log_lengthscale: -13.816   log_noise: 2.451\n",
      "Iter 686/1000 - Loss: 16719.232   log_lengthscale: -13.816   log_noise: 2.452\n"
     ]
    },
    {
     "name": "stderr",
     "output_type": "stream",
     "text": [
      "\r",
      " 69%|██████████████████████████████████████████████████████▏                        | 686/1000 [00:14<00:06, 48.20it/s]"
     ]
    },
    {
     "name": "stdout",
     "output_type": "stream",
     "text": [
      "Iter 687/1000 - Loss: 16706.398   log_lengthscale: -13.816   log_noise: 2.452\n",
      "Iter 688/1000 - Loss: 16693.611   log_lengthscale: -13.816   log_noise: 2.453\n",
      "Iter 689/1000 - Loss: 16680.830   log_lengthscale: -13.816   log_noise: 2.454\n",
      "Iter 690/1000 - Loss: 16668.088   log_lengthscale: -13.816   log_noise: 2.454\n",
      "Iter 691/1000 - Loss: 16655.363   log_lengthscale: -13.816   log_noise: 2.455\n"
     ]
    },
    {
     "name": "stderr",
     "output_type": "stream",
     "text": [
      "\r",
      " 69%|██████████████████████████████████████████████████████▌                        | 691/1000 [00:14<00:06, 47.51it/s]"
     ]
    },
    {
     "name": "stdout",
     "output_type": "stream",
     "text": [
      "Iter 692/1000 - Loss: 16642.672   log_lengthscale: -13.816   log_noise: 2.456\n",
      "Iter 693/1000 - Loss: 16630.000   log_lengthscale: -13.816   log_noise: 2.456\n",
      "Iter 694/1000 - Loss: 16617.365   log_lengthscale: -13.816   log_noise: 2.457\n",
      "Iter 695/1000 - Loss: 16604.746   log_lengthscale: -13.816   log_noise: 2.458\n",
      "Iter 696/1000 - Loss: 16592.164   log_lengthscale: -13.816   log_noise: 2.458\n"
     ]
    },
    {
     "name": "stderr",
     "output_type": "stream",
     "text": [
      "\r",
      " 70%|██████████████████████████████████████████████████████▉                        | 696/1000 [00:15<00:06, 48.13it/s]"
     ]
    },
    {
     "name": "stdout",
     "output_type": "stream",
     "text": [
      "Iter 697/1000 - Loss: 16579.600   log_lengthscale: -13.816   log_noise: 2.459\n",
      "Iter 698/1000 - Loss: 16567.068   log_lengthscale: -13.816   log_noise: 2.460\n",
      "Iter 699/1000 - Loss: 16554.557   log_lengthscale: -13.816   log_noise: 2.460\n",
      "Iter 700/1000 - Loss: 16542.082   log_lengthscale: -13.816   log_noise: 2.461\n",
      "Iter 701/1000 - Loss: 16529.613   log_lengthscale: -13.816   log_noise: 2.462\n"
     ]
    },
    {
     "name": "stderr",
     "output_type": "stream",
     "text": [
      "\r",
      " 70%|███████████████████████████████████████████████████████▍                       | 701/1000 [00:15<00:06, 48.57it/s]"
     ]
    },
    {
     "name": "stdout",
     "output_type": "stream",
     "text": [
      "Iter 702/1000 - Loss: 16517.191   log_lengthscale: -13.816   log_noise: 2.462\n",
      "Iter 703/1000 - Loss: 16504.781   log_lengthscale: -13.816   log_noise: 2.463\n",
      "Iter 704/1000 - Loss: 16492.396   log_lengthscale: -13.816   log_noise: 2.464\n",
      "Iter 705/1000 - Loss: 16480.049   log_lengthscale: -13.816   log_noise: 2.464\n",
      "Iter 706/1000 - Loss: 16467.725   log_lengthscale: -13.816   log_noise: 2.465\n"
     ]
    },
    {
     "name": "stderr",
     "output_type": "stream",
     "text": [
      "\r",
      " 71%|███████████████████████████████████████████████████████▊                       | 706/1000 [00:15<00:06, 48.46it/s]"
     ]
    },
    {
     "name": "stdout",
     "output_type": "stream",
     "text": [
      "Iter 707/1000 - Loss: 16455.418   log_lengthscale: -13.816   log_noise: 2.466\n",
      "Iter 708/1000 - Loss: 16443.143   log_lengthscale: -13.816   log_noise: 2.466\n",
      "Iter 709/1000 - Loss: 16430.887   log_lengthscale: -13.816   log_noise: 2.467\n",
      "Iter 710/1000 - Loss: 16418.656   log_lengthscale: -13.816   log_noise: 2.467\n",
      "Iter 711/1000 - Loss: 16406.451   log_lengthscale: -13.816   log_noise: 2.468\n"
     ]
    },
    {
     "name": "stderr",
     "output_type": "stream",
     "text": [
      "\r",
      " 71%|████████████████████████████████████████████████████████▏                      | 711/1000 [00:15<00:05, 48.39it/s]"
     ]
    },
    {
     "name": "stdout",
     "output_type": "stream",
     "text": [
      "Iter 712/1000 - Loss: 16394.277   log_lengthscale: -13.816   log_noise: 2.469\n",
      "Iter 713/1000 - Loss: 16382.123   log_lengthscale: -13.816   log_noise: 2.469\n",
      "Iter 714/1000 - Loss: 16369.994   log_lengthscale: -13.816   log_noise: 2.470\n",
      "Iter 715/1000 - Loss: 16357.891   log_lengthscale: -13.816   log_noise: 2.471\n",
      "Iter 716/1000 - Loss: 16345.814   log_lengthscale: -13.816   log_noise: 2.471\n"
     ]
    },
    {
     "name": "stderr",
     "output_type": "stream",
     "text": [
      "\r",
      " 72%|████████████████████████████████████████████████████████▌                      | 716/1000 [00:15<00:05, 47.92it/s]"
     ]
    },
    {
     "name": "stdout",
     "output_type": "stream",
     "text": [
      "Iter 717/1000 - Loss: 16333.760   log_lengthscale: -13.816   log_noise: 2.472\n",
      "Iter 718/1000 - Loss: 16321.725   log_lengthscale: -13.816   log_noise: 2.473\n",
      "Iter 719/1000 - Loss: 16309.721   log_lengthscale: -13.816   log_noise: 2.473\n",
      "Iter 720/1000 - Loss: 16297.738   log_lengthscale: -13.816   log_noise: 2.474\n",
      "Iter 721/1000 - Loss: 16285.781   log_lengthscale: -13.816   log_noise: 2.474\n"
     ]
    },
    {
     "name": "stderr",
     "output_type": "stream",
     "text": [
      "\r",
      " 72%|████████████████████████████████████████████████████████▉                      | 721/1000 [00:15<00:05, 47.86it/s]"
     ]
    },
    {
     "name": "stdout",
     "output_type": "stream",
     "text": [
      "Iter 722/1000 - Loss: 16273.849   log_lengthscale: -13.816   log_noise: 2.475\n",
      "Iter 723/1000 - Loss: 16261.938   log_lengthscale: -13.816   log_noise: 2.476\n",
      "Iter 724/1000 - Loss: 16250.050   log_lengthscale: -13.816   log_noise: 2.476\n",
      "Iter 725/1000 - Loss: 16238.191   log_lengthscale: -13.816   log_noise: 2.477\n",
      "Iter 726/1000 - Loss: 16226.354   log_lengthscale: -13.816   log_noise: 2.478\n"
     ]
    },
    {
     "name": "stderr",
     "output_type": "stream",
     "text": [
      "\r",
      " 73%|█████████████████████████████████████████████████████████▎                     | 726/1000 [00:15<00:05, 47.69it/s]"
     ]
    },
    {
     "name": "stdout",
     "output_type": "stream",
     "text": [
      "Iter 727/1000 - Loss: 16214.534   log_lengthscale: -13.816   log_noise: 2.478\n",
      "Iter 728/1000 - Loss: 16202.743   log_lengthscale: -13.816   log_noise: 2.479\n",
      "Iter 729/1000 - Loss: 16190.976   log_lengthscale: -13.816   log_noise: 2.480\n",
      "Iter 730/1000 - Loss: 16179.229   log_lengthscale: -13.816   log_noise: 2.480\n",
      "Iter 731/1000 - Loss: 16167.514   log_lengthscale: -13.816   log_noise: 2.481\n"
     ]
    },
    {
     "name": "stderr",
     "output_type": "stream",
     "text": [
      "\r",
      " 73%|█████████████████████████████████████████████████████████▋                     | 731/1000 [00:15<00:05, 47.57it/s]"
     ]
    },
    {
     "name": "stdout",
     "output_type": "stream",
     "text": [
      "Iter 732/1000 - Loss: 16155.811   log_lengthscale: -13.816   log_noise: 2.481\n",
      "Iter 733/1000 - Loss: 16144.134   log_lengthscale: -13.816   log_noise: 2.482\n",
      "Iter 734/1000 - Loss: 16132.484   log_lengthscale: -13.816   log_noise: 2.483\n",
      "Iter 735/1000 - Loss: 16120.854   log_lengthscale: -13.816   log_noise: 2.483\n",
      "Iter 736/1000 - Loss: 16109.249   log_lengthscale: -13.816   log_noise: 2.484\n"
     ]
    },
    {
     "name": "stderr",
     "output_type": "stream",
     "text": [
      "\r",
      " 74%|██████████████████████████████████████████████████████████▏                    | 736/1000 [00:15<00:05, 47.62it/s]"
     ]
    },
    {
     "name": "stdout",
     "output_type": "stream",
     "text": [
      "Iter 737/1000 - Loss: 16097.660   log_lengthscale: -13.816   log_noise: 2.485\n",
      "Iter 738/1000 - Loss: 16086.108   log_lengthscale: -13.816   log_noise: 2.485\n",
      "Iter 739/1000 - Loss: 16074.563   log_lengthscale: -13.816   log_noise: 2.486\n",
      "Iter 740/1000 - Loss: 16063.055   log_lengthscale: -13.816   log_noise: 2.486\n",
      "Iter 741/1000 - Loss: 16051.561   log_lengthscale: -13.816   log_noise: 2.487\n"
     ]
    },
    {
     "name": "stderr",
     "output_type": "stream",
     "text": [
      "\r",
      " 74%|██████████████████████████████████████████████████████████▌                    | 741/1000 [00:16<00:05, 47.39it/s]"
     ]
    },
    {
     "name": "stdout",
     "output_type": "stream",
     "text": [
      "Iter 742/1000 - Loss: 16040.091   log_lengthscale: -13.816   log_noise: 2.488\n",
      "Iter 743/1000 - Loss: 16028.646   log_lengthscale: -13.816   log_noise: 2.488\n",
      "Iter 744/1000 - Loss: 16017.211   log_lengthscale: -13.816   log_noise: 2.489\n",
      "Iter 745/1000 - Loss: 16005.818   log_lengthscale: -13.816   log_noise: 2.490\n",
      "Iter 746/1000 - Loss: 15994.426   log_lengthscale: -13.816   log_noise: 2.490\n"
     ]
    },
    {
     "name": "stderr",
     "output_type": "stream",
     "text": [
      "\r",
      " 75%|██████████████████████████████████████████████████████████▉                    | 746/1000 [00:16<00:05, 47.23it/s]"
     ]
    },
    {
     "name": "stdout",
     "output_type": "stream",
     "text": [
      "Iter 747/1000 - Loss: 15983.066   log_lengthscale: -13.816   log_noise: 2.491\n",
      "Iter 748/1000 - Loss: 15971.739   log_lengthscale: -13.816   log_noise: 2.491\n",
      "Iter 749/1000 - Loss: 15960.410   log_lengthscale: -13.816   log_noise: 2.492\n",
      "Iter 750/1000 - Loss: 15949.134   log_lengthscale: -13.816   log_noise: 2.493\n",
      "Iter 751/1000 - Loss: 15937.859   log_lengthscale: -13.816   log_noise: 2.493\n"
     ]
    },
    {
     "name": "stderr",
     "output_type": "stream",
     "text": [
      "\r",
      " 75%|███████████████████████████████████████████████████████████▎                   | 751/1000 [00:16<00:05, 47.79it/s]"
     ]
    },
    {
     "name": "stdout",
     "output_type": "stream",
     "text": [
      "Iter 752/1000 - Loss: 15926.611   log_lengthscale: -13.816   log_noise: 2.494\n",
      "Iter 753/1000 - Loss: 15915.377   log_lengthscale: -13.816   log_noise: 2.494\n",
      "Iter 754/1000 - Loss: 15904.174   log_lengthscale: -13.816   log_noise: 2.495\n",
      "Iter 755/1000 - Loss: 15892.989   log_lengthscale: -13.816   log_noise: 2.496\n",
      "Iter 756/1000 - Loss: 15881.814   log_lengthscale: -13.816   log_noise: 2.496\n"
     ]
    },
    {
     "name": "stderr",
     "output_type": "stream",
     "text": [
      "\r",
      " 76%|███████████████████████████████████████████████████████████▋                   | 756/1000 [00:16<00:05, 47.64it/s]"
     ]
    },
    {
     "name": "stdout",
     "output_type": "stream",
     "text": [
      "Iter 757/1000 - Loss: 15870.682   log_lengthscale: -13.816   log_noise: 2.497\n",
      "Iter 758/1000 - Loss: 15859.554   log_lengthscale: -13.816   log_noise: 2.498\n",
      "Iter 759/1000 - Loss: 15848.455   log_lengthscale: -13.816   log_noise: 2.498\n",
      "Iter 760/1000 - Loss: 15837.381   log_lengthscale: -13.816   log_noise: 2.499\n",
      "Iter 761/1000 - Loss: 15826.316   log_lengthscale: -13.816   log_noise: 2.499\n"
     ]
    },
    {
     "name": "stderr",
     "output_type": "stream",
     "text": [
      "\r",
      " 76%|████████████████████████████████████████████████████████████                   | 761/1000 [00:16<00:05, 47.67it/s]"
     ]
    },
    {
     "name": "stdout",
     "output_type": "stream",
     "text": [
      "Iter 762/1000 - Loss: 15815.275   log_lengthscale: -13.816   log_noise: 2.500\n",
      "Iter 763/1000 - Loss: 15804.270   log_lengthscale: -13.816   log_noise: 2.501\n",
      "Iter 764/1000 - Loss: 15793.271   log_lengthscale: -13.816   log_noise: 2.501\n",
      "Iter 765/1000 - Loss: 15782.306   log_lengthscale: -13.816   log_noise: 2.502\n",
      "Iter 766/1000 - Loss: 15771.340   log_lengthscale: -13.816   log_noise: 2.502\n"
     ]
    },
    {
     "name": "stderr",
     "output_type": "stream",
     "text": [
      "\r",
      " 77%|████████████████████████████████████████████████████████████▌                  | 766/1000 [00:16<00:04, 47.29it/s]"
     ]
    },
    {
     "name": "stdout",
     "output_type": "stream",
     "text": [
      "Iter 767/1000 - Loss: 15760.415   log_lengthscale: -13.816   log_noise: 2.503\n",
      "Iter 768/1000 - Loss: 15749.495   log_lengthscale: -13.816   log_noise: 2.504\n",
      "Iter 769/1000 - Loss: 15738.609   log_lengthscale: -13.816   log_noise: 2.504\n",
      "Iter 770/1000 - Loss: 15727.730   log_lengthscale: -13.816   log_noise: 2.505\n",
      "Iter 771/1000 - Loss: 15716.882   log_lengthscale: -13.816   log_noise: 2.505\n"
     ]
    },
    {
     "name": "stderr",
     "output_type": "stream",
     "text": [
      "\r",
      " 77%|████████████████████████████████████████████████████████████▉                  | 771/1000 [00:16<00:04, 47.16it/s]"
     ]
    },
    {
     "name": "stdout",
     "output_type": "stream",
     "text": [
      "Iter 772/1000 - Loss: 15706.055   log_lengthscale: -13.816   log_noise: 2.506\n",
      "Iter 773/1000 - Loss: 15695.240   log_lengthscale: -13.816   log_noise: 2.507\n",
      "Iter 774/1000 - Loss: 15684.445   log_lengthscale: -13.816   log_noise: 2.507\n",
      "Iter 775/1000 - Loss: 15673.675   log_lengthscale: -13.816   log_noise: 2.508\n",
      "Iter 776/1000 - Loss: 15662.930   log_lengthscale: -13.816   log_noise: 2.508\n"
     ]
    },
    {
     "name": "stderr",
     "output_type": "stream",
     "text": [
      "\r",
      " 78%|█████████████████████████████████████████████████████████████▎                 | 776/1000 [00:16<00:04, 47.74it/s]"
     ]
    },
    {
     "name": "stdout",
     "output_type": "stream",
     "text": [
      "Iter 777/1000 - Loss: 15652.203   log_lengthscale: -13.816   log_noise: 2.509\n",
      "Iter 778/1000 - Loss: 15641.488   log_lengthscale: -13.816   log_noise: 2.510\n",
      "Iter 779/1000 - Loss: 15630.797   log_lengthscale: -13.816   log_noise: 2.510\n",
      "Iter 780/1000 - Loss: 15620.124   log_lengthscale: -13.816   log_noise: 2.511\n",
      "Iter 781/1000 - Loss: 15609.471   log_lengthscale: -13.816   log_noise: 2.511\n"
     ]
    },
    {
     "name": "stderr",
     "output_type": "stream",
     "text": [
      "\r",
      " 78%|█████████████████████████████████████████████████████████████▋                 | 781/1000 [00:16<00:04, 47.74it/s]"
     ]
    },
    {
     "name": "stdout",
     "output_type": "stream",
     "text": [
      "Iter 782/1000 - Loss: 15598.840   log_lengthscale: -13.816   log_noise: 2.512\n",
      "Iter 783/1000 - Loss: 15588.229   log_lengthscale: -13.816   log_noise: 2.513\n",
      "Iter 784/1000 - Loss: 15577.635   log_lengthscale: -13.816   log_noise: 2.513\n",
      "Iter 785/1000 - Loss: 15567.059   log_lengthscale: -13.816   log_noise: 2.514\n",
      "Iter 786/1000 - Loss: 15556.517   log_lengthscale: -13.816   log_noise: 2.514\n"
     ]
    },
    {
     "name": "stderr",
     "output_type": "stream",
     "text": [
      "\r",
      " 79%|██████████████████████████████████████████████████████████████                 | 786/1000 [00:16<00:04, 48.15it/s]"
     ]
    },
    {
     "name": "stdout",
     "output_type": "stream",
     "text": [
      "Iter 787/1000 - Loss: 15545.977   log_lengthscale: -13.816   log_noise: 2.515\n",
      "Iter 788/1000 - Loss: 15535.465   log_lengthscale: -13.816   log_noise: 2.516\n",
      "Iter 789/1000 - Loss: 15524.967   log_lengthscale: -13.816   log_noise: 2.516\n",
      "Iter 790/1000 - Loss: 15514.495   log_lengthscale: -13.816   log_noise: 2.517\n",
      "Iter 791/1000 - Loss: 15504.034   log_lengthscale: -13.816   log_noise: 2.517\n"
     ]
    },
    {
     "name": "stderr",
     "output_type": "stream",
     "text": [
      "\r",
      " 79%|██████████████████████████████████████████████████████████████▍                | 791/1000 [00:17<00:04, 48.31it/s]"
     ]
    },
    {
     "name": "stdout",
     "output_type": "stream",
     "text": [
      "Iter 792/1000 - Loss: 15493.592   log_lengthscale: -13.816   log_noise: 2.518\n",
      "Iter 793/1000 - Loss: 15483.174   log_lengthscale: -13.816   log_noise: 2.519\n",
      "Iter 794/1000 - Loss: 15472.766   log_lengthscale: -13.816   log_noise: 2.519\n",
      "Iter 795/1000 - Loss: 15462.390   log_lengthscale: -13.816   log_noise: 2.520\n",
      "Iter 796/1000 - Loss: 15452.026   log_lengthscale: -13.816   log_noise: 2.520\n"
     ]
    },
    {
     "name": "stderr",
     "output_type": "stream",
     "text": [
      "\r",
      " 80%|██████████████████████████████████████████████████████████████▉                | 796/1000 [00:17<00:04, 48.00it/s]"
     ]
    },
    {
     "name": "stdout",
     "output_type": "stream",
     "text": [
      "Iter 797/1000 - Loss: 15441.680   log_lengthscale: -13.816   log_noise: 2.521\n",
      "Iter 798/1000 - Loss: 15431.350   log_lengthscale: -13.816   log_noise: 2.522\n",
      "Iter 799/1000 - Loss: 15421.049   log_lengthscale: -13.816   log_noise: 2.522\n",
      "Iter 800/1000 - Loss: 15410.755   log_lengthscale: -13.816   log_noise: 2.523\n",
      "Iter 801/1000 - Loss: 15400.489   log_lengthscale: -13.816   log_noise: 2.523\n"
     ]
    },
    {
     "name": "stderr",
     "output_type": "stream",
     "text": [
      "\r",
      " 80%|███████████████████████████████████████████████████████████████▎               | 801/1000 [00:17<00:04, 48.06it/s]"
     ]
    },
    {
     "name": "stdout",
     "output_type": "stream",
     "text": [
      "Iter 802/1000 - Loss: 15390.235   log_lengthscale: -13.816   log_noise: 2.524\n",
      "Iter 803/1000 - Loss: 15380.004   log_lengthscale: -13.816   log_noise: 2.524\n",
      "Iter 804/1000 - Loss: 15369.790   log_lengthscale: -13.816   log_noise: 2.525\n",
      "Iter 805/1000 - Loss: 15359.596   log_lengthscale: -13.816   log_noise: 2.526\n",
      "Iter 806/1000 - Loss: 15349.419   log_lengthscale: -13.816   log_noise: 2.526\n"
     ]
    },
    {
     "name": "stderr",
     "output_type": "stream",
     "text": [
      "\r",
      " 81%|███████████████████████████████████████████████████████████████▋               | 806/1000 [00:17<00:04, 45.61it/s]"
     ]
    },
    {
     "name": "stdout",
     "output_type": "stream",
     "text": [
      "Iter 807/1000 - Loss: 15339.252   log_lengthscale: -13.816   log_noise: 2.527\n",
      "Iter 808/1000 - Loss: 15329.116   log_lengthscale: -13.816   log_noise: 2.527\n",
      "Iter 809/1000 - Loss: 15318.993   log_lengthscale: -13.816   log_noise: 2.528\n",
      "Iter 810/1000 - Loss: 15308.881   log_lengthscale: -13.816   log_noise: 2.529\n",
      "Iter 811/1000 - Loss: 15298.792   log_lengthscale: -13.816   log_noise: 2.529\n"
     ]
    },
    {
     "name": "stderr",
     "output_type": "stream",
     "text": [
      "\r",
      " 81%|████████████████████████████████████████████████████████████████               | 811/1000 [00:17<00:04, 46.10it/s]"
     ]
    },
    {
     "name": "stdout",
     "output_type": "stream",
     "text": [
      "Iter 812/1000 - Loss: 15288.729   log_lengthscale: -13.816   log_noise: 2.530\n",
      "Iter 813/1000 - Loss: 15278.670   log_lengthscale: -13.816   log_noise: 2.530\n",
      "Iter 814/1000 - Loss: 15268.637   log_lengthscale: -13.816   log_noise: 2.531\n",
      "Iter 815/1000 - Loss: 15258.626   log_lengthscale: -13.816   log_noise: 2.531\n",
      "Iter 816/1000 - Loss: 15248.621   log_lengthscale: -13.816   log_noise: 2.532\n"
     ]
    },
    {
     "name": "stderr",
     "output_type": "stream",
     "text": [
      "\r",
      " 82%|████████████████████████████████████████████████████████████████▍              | 816/1000 [00:17<00:03, 46.71it/s]"
     ]
    },
    {
     "name": "stdout",
     "output_type": "stream",
     "text": [
      "Iter 817/1000 - Loss: 15238.640   log_lengthscale: -13.816   log_noise: 2.533\n",
      "Iter 818/1000 - Loss: 15228.679   log_lengthscale: -13.816   log_noise: 2.533\n",
      "Iter 819/1000 - Loss: 15218.729   log_lengthscale: -13.816   log_noise: 2.534\n",
      "Iter 820/1000 - Loss: 15208.800   log_lengthscale: -13.816   log_noise: 2.534\n",
      "Iter 821/1000 - Loss: 15198.889   log_lengthscale: -13.816   log_noise: 2.535\n"
     ]
    },
    {
     "name": "stderr",
     "output_type": "stream",
     "text": [
      "\r",
      " 82%|████████████████████████████████████████████████████████████████▊              | 821/1000 [00:17<00:03, 46.89it/s]"
     ]
    },
    {
     "name": "stdout",
     "output_type": "stream",
     "text": [
      "Iter 822/1000 - Loss: 15188.999   log_lengthscale: -13.816   log_noise: 2.535\n",
      "Iter 823/1000 - Loss: 15179.123   log_lengthscale: -13.816   log_noise: 2.536\n",
      "Iter 824/1000 - Loss: 15169.257   log_lengthscale: -13.816   log_noise: 2.537\n",
      "Iter 825/1000 - Loss: 15159.421   log_lengthscale: -13.816   log_noise: 2.537\n",
      "Iter 826/1000 - Loss: 15149.590   log_lengthscale: -13.816   log_noise: 2.538\n"
     ]
    },
    {
     "name": "stderr",
     "output_type": "stream",
     "text": [
      "\r",
      " 83%|█████████████████████████████████████████████████████████████████▎             | 826/1000 [00:17<00:03, 47.68it/s]"
     ]
    },
    {
     "name": "stdout",
     "output_type": "stream",
     "text": [
      "Iter 827/1000 - Loss: 15139.788   log_lengthscale: -13.816   log_noise: 2.538\n",
      "Iter 828/1000 - Loss: 15129.986   log_lengthscale: -13.816   log_noise: 2.539\n",
      "Iter 829/1000 - Loss: 15120.209   log_lengthscale: -13.816   log_noise: 2.540\n",
      "Iter 830/1000 - Loss: 15110.462   log_lengthscale: -13.816   log_noise: 2.540\n",
      "Iter 831/1000 - Loss: 15100.714   log_lengthscale: -13.816   log_noise: 2.541\n"
     ]
    },
    {
     "name": "stderr",
     "output_type": "stream",
     "text": [
      "\r",
      " 83%|█████████████████████████████████████████████████████████████████▋             | 831/1000 [00:17<00:03, 47.70it/s]"
     ]
    },
    {
     "name": "stdout",
     "output_type": "stream",
     "text": [
      "Iter 832/1000 - Loss: 15090.995   log_lengthscale: -13.816   log_noise: 2.541\n",
      "Iter 833/1000 - Loss: 15081.288   log_lengthscale: -13.816   log_noise: 2.542\n",
      "Iter 834/1000 - Loss: 15071.589   log_lengthscale: -13.816   log_noise: 2.542\n",
      "Iter 835/1000 - Loss: 15061.929   log_lengthscale: -13.816   log_noise: 2.543\n",
      "Iter 836/1000 - Loss: 15052.269   log_lengthscale: -13.816   log_noise: 2.544\n"
     ]
    },
    {
     "name": "stderr",
     "output_type": "stream",
     "text": [
      "\r",
      " 84%|██████████████████████████████████████████████████████████████████             | 836/1000 [00:18<00:03, 47.58it/s]"
     ]
    },
    {
     "name": "stdout",
     "output_type": "stream",
     "text": [
      "Iter 837/1000 - Loss: 15042.619   log_lengthscale: -13.816   log_noise: 2.544\n",
      "Iter 838/1000 - Loss: 15032.996   log_lengthscale: -13.816   log_noise: 2.545\n",
      "Iter 839/1000 - Loss: 15023.394   log_lengthscale: -13.816   log_noise: 2.545\n",
      "Iter 840/1000 - Loss: 15013.801   log_lengthscale: -13.816   log_noise: 2.546\n",
      "Iter 841/1000 - Loss: 15004.229   log_lengthscale: -13.816   log_noise: 2.546\n"
     ]
    },
    {
     "name": "stderr",
     "output_type": "stream",
     "text": [
      "\r",
      " 84%|██████████████████████████████████████████████████████████████████▍            | 841/1000 [00:18<00:03, 47.63it/s]"
     ]
    },
    {
     "name": "stdout",
     "output_type": "stream",
     "text": [
      "Iter 842/1000 - Loss: 14994.674   log_lengthscale: -13.816   log_noise: 2.547\n",
      "Iter 843/1000 - Loss: 14985.125   log_lengthscale: -13.816   log_noise: 2.547\n",
      "Iter 844/1000 - Loss: 14975.604   log_lengthscale: -13.816   log_noise: 2.548\n",
      "Iter 845/1000 - Loss: 14966.097   log_lengthscale: -13.816   log_noise: 2.549\n",
      "Iter 846/1000 - Loss: 14956.596   log_lengthscale: -13.816   log_noise: 2.549\n"
     ]
    },
    {
     "name": "stderr",
     "output_type": "stream",
     "text": [
      "\r",
      " 85%|██████████████████████████████████████████████████████████████████▊            | 846/1000 [00:18<00:03, 48.08it/s]"
     ]
    },
    {
     "name": "stdout",
     "output_type": "stream",
     "text": [
      "Iter 847/1000 - Loss: 14947.116   log_lengthscale: -13.816   log_noise: 2.550\n",
      "Iter 848/1000 - Loss: 14937.663   log_lengthscale: -13.816   log_noise: 2.550\n",
      "Iter 849/1000 - Loss: 14928.217   log_lengthscale: -13.816   log_noise: 2.551\n",
      "Iter 850/1000 - Loss: 14918.791   log_lengthscale: -13.816   log_noise: 2.551\n",
      "Iter 851/1000 - Loss: 14909.379   log_lengthscale: -13.816   log_noise: 2.552\n"
     ]
    },
    {
     "name": "stderr",
     "output_type": "stream",
     "text": [
      "\r",
      " 85%|███████████████████████████████████████████████████████████████████▏           | 851/1000 [00:18<00:03, 48.11it/s]"
     ]
    },
    {
     "name": "stdout",
     "output_type": "stream",
     "text": [
      "Iter 852/1000 - Loss: 14899.974   log_lengthscale: -13.816   log_noise: 2.553\n",
      "Iter 853/1000 - Loss: 14890.592   log_lengthscale: -13.816   log_noise: 2.553\n",
      "Iter 854/1000 - Loss: 14881.225   log_lengthscale: -13.816   log_noise: 2.554\n",
      "Iter 855/1000 - Loss: 14871.877   log_lengthscale: -13.816   log_noise: 2.554\n",
      "Iter 856/1000 - Loss: 14862.540   log_lengthscale: -13.816   log_noise: 2.555\n"
     ]
    },
    {
     "name": "stderr",
     "output_type": "stream",
     "text": [
      "\r",
      " 86%|███████████████████████████████████████████████████████████████████▌           | 856/1000 [00:18<00:02, 48.14it/s]"
     ]
    },
    {
     "name": "stdout",
     "output_type": "stream",
     "text": [
      "Iter 857/1000 - Loss: 14853.222   log_lengthscale: -13.816   log_noise: 2.555\n",
      "Iter 858/1000 - Loss: 14843.911   log_lengthscale: -13.816   log_noise: 2.556\n",
      "Iter 859/1000 - Loss: 14834.634   log_lengthscale: -13.816   log_noise: 2.556\n",
      "Iter 860/1000 - Loss: 14825.355   log_lengthscale: -13.816   log_noise: 2.557\n",
      "Iter 861/1000 - Loss: 14816.100   log_lengthscale: -13.816   log_noise: 2.558\n"
     ]
    },
    {
     "name": "stderr",
     "output_type": "stream",
     "text": [
      "\r",
      " 86%|████████████████████████████████████████████████████████████████████           | 861/1000 [00:18<00:02, 48.30it/s]"
     ]
    },
    {
     "name": "stdout",
     "output_type": "stream",
     "text": [
      "Iter 862/1000 - Loss: 14806.854   log_lengthscale: -13.816   log_noise: 2.558\n",
      "Iter 863/1000 - Loss: 14797.632   log_lengthscale: -13.816   log_noise: 2.559\n",
      "Iter 864/1000 - Loss: 14788.416   log_lengthscale: -13.816   log_noise: 2.559\n",
      "Iter 865/1000 - Loss: 14779.227   log_lengthscale: -13.816   log_noise: 2.560\n",
      "Iter 866/1000 - Loss: 14770.044   log_lengthscale: -13.816   log_noise: 2.560\n"
     ]
    },
    {
     "name": "stderr",
     "output_type": "stream",
     "text": [
      "\r",
      " 87%|████████████████████████████████████████████████████████████████████▍          | 866/1000 [00:18<00:02, 47.86it/s]"
     ]
    },
    {
     "name": "stdout",
     "output_type": "stream",
     "text": [
      "Iter 867/1000 - Loss: 14760.879   log_lengthscale: -13.816   log_noise: 2.561\n",
      "Iter 868/1000 - Loss: 14751.729   log_lengthscale: -13.816   log_noise: 2.561\n",
      "Iter 869/1000 - Loss: 14742.591   log_lengthscale: -13.816   log_noise: 2.562\n",
      "Iter 870/1000 - Loss: 14733.471   log_lengthscale: -13.816   log_noise: 2.563\n",
      "Iter 871/1000 - Loss: 14724.364   log_lengthscale: -13.816   log_noise: 2.563\n"
     ]
    },
    {
     "name": "stderr",
     "output_type": "stream",
     "text": [
      "\r",
      " 87%|████████████████████████████████████████████████████████████████████▊          | 871/1000 [00:18<00:02, 47.55it/s]"
     ]
    },
    {
     "name": "stdout",
     "output_type": "stream",
     "text": [
      "Iter 872/1000 - Loss: 14715.284   log_lengthscale: -13.816   log_noise: 2.564\n",
      "Iter 873/1000 - Loss: 14706.198   log_lengthscale: -13.816   log_noise: 2.564\n",
      "Iter 874/1000 - Loss: 14697.144   log_lengthscale: -13.816   log_noise: 2.565\n",
      "Iter 875/1000 - Loss: 14688.100   log_lengthscale: -13.816   log_noise: 2.565\n",
      "Iter 876/1000 - Loss: 14679.066   log_lengthscale: -13.816   log_noise: 2.566\n"
     ]
    },
    {
     "name": "stderr",
     "output_type": "stream",
     "text": [
      "\r",
      " 88%|█████████████████████████████████████████████████████████████████████▏         | 876/1000 [00:18<00:02, 47.61it/s]"
     ]
    },
    {
     "name": "stdout",
     "output_type": "stream",
     "text": [
      "Iter 877/1000 - Loss: 14670.049   log_lengthscale: -13.816   log_noise: 2.566\n",
      "Iter 878/1000 - Loss: 14661.052   log_lengthscale: -13.816   log_noise: 2.567\n",
      "Iter 879/1000 - Loss: 14652.061   log_lengthscale: -13.816   log_noise: 2.567\n",
      "Iter 880/1000 - Loss: 14643.091   log_lengthscale: -13.816   log_noise: 2.568\n",
      "Iter 881/1000 - Loss: 14634.135   log_lengthscale: -13.816   log_noise: 2.569\n"
     ]
    },
    {
     "name": "stderr",
     "output_type": "stream",
     "text": [
      "\r",
      " 88%|█████████████████████████████████████████████████████████████████████▌         | 881/1000 [00:18<00:02, 47.38it/s]"
     ]
    },
    {
     "name": "stdout",
     "output_type": "stream",
     "text": [
      "Iter 882/1000 - Loss: 14625.193   log_lengthscale: -13.816   log_noise: 2.569\n",
      "Iter 883/1000 - Loss: 14616.260   log_lengthscale: -13.816   log_noise: 2.570\n",
      "Iter 884/1000 - Loss: 14607.342   log_lengthscale: -13.816   log_noise: 2.570\n",
      "Iter 885/1000 - Loss: 14598.449   log_lengthscale: -13.816   log_noise: 2.571\n",
      "Iter 886/1000 - Loss: 14589.566   log_lengthscale: -13.816   log_noise: 2.571\n"
     ]
    },
    {
     "name": "stderr",
     "output_type": "stream",
     "text": [
      "\r",
      " 89%|█████████████████████████████████████████████████████████████████████▉         | 886/1000 [00:19<00:02, 47.62it/s]"
     ]
    },
    {
     "name": "stdout",
     "output_type": "stream",
     "text": [
      "Iter 887/1000 - Loss: 14580.690   log_lengthscale: -13.816   log_noise: 2.572\n",
      "Iter 888/1000 - Loss: 14571.842   log_lengthscale: -13.816   log_noise: 2.572\n",
      "Iter 889/1000 - Loss: 14562.991   log_lengthscale: -13.816   log_noise: 2.573\n",
      "Iter 890/1000 - Loss: 14554.165   log_lengthscale: -13.816   log_noise: 2.573\n",
      "Iter 891/1000 - Loss: 14545.354   log_lengthscale: -13.816   log_noise: 2.574\n"
     ]
    },
    {
     "name": "stderr",
     "output_type": "stream",
     "text": [
      "\r",
      " 89%|██████████████████████████████████████████████████████████████████████▍        | 891/1000 [00:19<00:02, 47.80it/s]"
     ]
    },
    {
     "name": "stdout",
     "output_type": "stream",
     "text": [
      "Iter 892/1000 - Loss: 14536.546   log_lengthscale: -13.816   log_noise: 2.575\n",
      "Iter 893/1000 - Loss: 14527.764   log_lengthscale: -13.816   log_noise: 2.575\n",
      "Iter 894/1000 - Loss: 14518.998   log_lengthscale: -13.816   log_noise: 2.576\n",
      "Iter 895/1000 - Loss: 14510.235   log_lengthscale: -13.816   log_noise: 2.576\n",
      "Iter 896/1000 - Loss: 14501.490   log_lengthscale: -13.816   log_noise: 2.577\n"
     ]
    },
    {
     "name": "stderr",
     "output_type": "stream",
     "text": [
      "\r",
      " 90%|██████████████████████████████████████████████████████████████████████▊        | 896/1000 [00:19<00:02, 48.20it/s]"
     ]
    },
    {
     "name": "stdout",
     "output_type": "stream",
     "text": [
      "Iter 897/1000 - Loss: 14492.761   log_lengthscale: -13.816   log_noise: 2.577\n",
      "Iter 898/1000 - Loss: 14484.050   log_lengthscale: -13.816   log_noise: 2.578\n",
      "Iter 899/1000 - Loss: 14475.336   log_lengthscale: -13.816   log_noise: 2.578\n",
      "Iter 900/1000 - Loss: 14466.654   log_lengthscale: -13.816   log_noise: 2.579\n",
      "Iter 901/1000 - Loss: 14457.981   log_lengthscale: -13.816   log_noise: 2.579\n"
     ]
    },
    {
     "name": "stderr",
     "output_type": "stream",
     "text": [
      "\r",
      " 90%|███████████████████████████████████████████████████████████████████████▏       | 901/1000 [00:19<00:02, 47.65it/s]"
     ]
    },
    {
     "name": "stdout",
     "output_type": "stream",
     "text": [
      "Iter 902/1000 - Loss: 14449.320   log_lengthscale: -13.816   log_noise: 2.580\n",
      "Iter 903/1000 - Loss: 14440.675   log_lengthscale: -13.816   log_noise: 2.580\n",
      "Iter 904/1000 - Loss: 14432.047   log_lengthscale: -13.816   log_noise: 2.581\n",
      "Iter 905/1000 - Loss: 14423.424   log_lengthscale: -13.816   log_noise: 2.582\n",
      "Iter 906/1000 - Loss: 14414.812   log_lengthscale: -13.816   log_noise: 2.582\n"
     ]
    },
    {
     "name": "stderr",
     "output_type": "stream",
     "text": [
      "\r",
      " 91%|███████████████████████████████████████████████████████████████████████▌       | 906/1000 [00:19<00:01, 47.68it/s]"
     ]
    },
    {
     "name": "stdout",
     "output_type": "stream",
     "text": [
      "Iter 907/1000 - Loss: 14406.225   log_lengthscale: -13.816   log_noise: 2.583\n",
      "Iter 908/1000 - Loss: 14397.641   log_lengthscale: -13.816   log_noise: 2.583\n",
      "Iter 909/1000 - Loss: 14389.086   log_lengthscale: -13.816   log_noise: 2.584\n",
      "Iter 910/1000 - Loss: 14380.533   log_lengthscale: -13.816   log_noise: 2.584\n",
      "Iter 911/1000 - Loss: 14371.996   log_lengthscale: -13.816   log_noise: 2.585\n"
     ]
    },
    {
     "name": "stderr",
     "output_type": "stream",
     "text": [
      "\r",
      " 91%|███████████████████████████████████████████████████████████████████████▉       | 911/1000 [00:19<00:01, 47.56it/s]"
     ]
    },
    {
     "name": "stdout",
     "output_type": "stream",
     "text": [
      "Iter 912/1000 - Loss: 14363.462   log_lengthscale: -13.816   log_noise: 2.585\n",
      "Iter 913/1000 - Loss: 14354.953   log_lengthscale: -13.816   log_noise: 2.586\n",
      "Iter 914/1000 - Loss: 14346.454   log_lengthscale: -13.816   log_noise: 2.586\n",
      "Iter 915/1000 - Loss: 14337.972   log_lengthscale: -13.816   log_noise: 2.587\n",
      "Iter 916/1000 - Loss: 14329.499   log_lengthscale: -13.816   log_noise: 2.587\n"
     ]
    },
    {
     "name": "stderr",
     "output_type": "stream",
     "text": [
      "\r",
      " 92%|████████████████████████████████████████████████████████████████████████▎      | 916/1000 [00:19<00:01, 47.62it/s]"
     ]
    },
    {
     "name": "stdout",
     "output_type": "stream",
     "text": [
      "Iter 917/1000 - Loss: 14321.035   log_lengthscale: -13.816   log_noise: 2.588\n",
      "Iter 918/1000 - Loss: 14312.599   log_lengthscale: -13.816   log_noise: 2.588\n",
      "Iter 919/1000 - Loss: 14304.159   log_lengthscale: -13.816   log_noise: 2.589\n",
      "Iter 920/1000 - Loss: 14295.745   log_lengthscale: -13.816   log_noise: 2.590\n",
      "Iter 921/1000 - Loss: 14287.328   log_lengthscale: -13.816   log_noise: 2.590\n"
     ]
    },
    {
     "name": "stderr",
     "output_type": "stream",
     "text": [
      "\r",
      " 92%|████████████████████████████████████████████████████████████████████████▊      | 921/1000 [00:19<00:01, 48.21it/s]"
     ]
    },
    {
     "name": "stdout",
     "output_type": "stream",
     "text": [
      "Iter 922/1000 - Loss: 14278.937   log_lengthscale: -13.816   log_noise: 2.591\n",
      "Iter 923/1000 - Loss: 14270.556   log_lengthscale: -13.816   log_noise: 2.591\n",
      "Iter 924/1000 - Loss: 14262.194   log_lengthscale: -13.816   log_noise: 2.592\n",
      "Iter 925/1000 - Loss: 14253.836   log_lengthscale: -13.816   log_noise: 2.592\n",
      "Iter 926/1000 - Loss: 14245.500   log_lengthscale: -13.816   log_noise: 2.593\n"
     ]
    },
    {
     "name": "stderr",
     "output_type": "stream",
     "text": [
      "\r",
      " 93%|█████████████████████████████████████████████████████████████████████████▏     | 926/1000 [00:19<00:01, 48.07it/s]"
     ]
    },
    {
     "name": "stdout",
     "output_type": "stream",
     "text": [
      "Iter 927/1000 - Loss: 14237.169   log_lengthscale: -13.816   log_noise: 2.593\n",
      "Iter 928/1000 - Loss: 14228.850   log_lengthscale: -13.816   log_noise: 2.594\n",
      "Iter 929/1000 - Loss: 14220.551   log_lengthscale: -13.816   log_noise: 2.594\n",
      "Iter 930/1000 - Loss: 14212.254   log_lengthscale: -13.816   log_noise: 2.595\n",
      "Iter 931/1000 - Loss: 14203.976   log_lengthscale: -13.816   log_noise: 2.595\n"
     ]
    },
    {
     "name": "stderr",
     "output_type": "stream",
     "text": [
      "\r",
      " 93%|█████████████████████████████████████████████████████████████████████████▌     | 931/1000 [00:20<00:01, 48.11it/s]"
     ]
    },
    {
     "name": "stdout",
     "output_type": "stream",
     "text": [
      "Iter 932/1000 - Loss: 14195.710   log_lengthscale: -13.816   log_noise: 2.596\n",
      "Iter 933/1000 - Loss: 14187.460   log_lengthscale: -13.816   log_noise: 2.596\n",
      "Iter 934/1000 - Loss: 14179.220   log_lengthscale: -13.816   log_noise: 2.597\n",
      "Iter 935/1000 - Loss: 14170.999   log_lengthscale: -13.816   log_noise: 2.597\n",
      "Iter 936/1000 - Loss: 14162.789   log_lengthscale: -13.816   log_noise: 2.598\n"
     ]
    },
    {
     "name": "stderr",
     "output_type": "stream",
     "text": [
      "\r",
      " 94%|█████████████████████████████████████████████████████████████████████████▉     | 936/1000 [00:20<00:01, 48.14it/s]"
     ]
    },
    {
     "name": "stdout",
     "output_type": "stream",
     "text": [
      "Iter 937/1000 - Loss: 14154.580   log_lengthscale: -13.816   log_noise: 2.598\n",
      "Iter 938/1000 - Loss: 14146.385   log_lengthscale: -13.816   log_noise: 2.599\n",
      "Iter 939/1000 - Loss: 14138.203   log_lengthscale: -13.816   log_noise: 2.600\n",
      "Iter 940/1000 - Loss: 14130.044   log_lengthscale: -13.816   log_noise: 2.600\n",
      "Iter 941/1000 - Loss: 14121.896   log_lengthscale: -13.816   log_noise: 2.601\n"
     ]
    },
    {
     "name": "stderr",
     "output_type": "stream",
     "text": [
      "\r",
      " 94%|██████████████████████████████████████████████████████████████████████████▎    | 941/1000 [00:20<00:01, 47.88it/s]"
     ]
    },
    {
     "name": "stdout",
     "output_type": "stream",
     "text": [
      "Iter 942/1000 - Loss: 14113.755   log_lengthscale: -13.816   log_noise: 2.601\n",
      "Iter 943/1000 - Loss: 14105.626   log_lengthscale: -13.816   log_noise: 2.602\n",
      "Iter 944/1000 - Loss: 14097.512   log_lengthscale: -13.816   log_noise: 2.602\n",
      "Iter 945/1000 - Loss: 14089.401   log_lengthscale: -13.816   log_noise: 2.603\n",
      "Iter 946/1000 - Loss: 14081.316   log_lengthscale: -13.816   log_noise: 2.603\n"
     ]
    },
    {
     "name": "stderr",
     "output_type": "stream",
     "text": [
      "\r",
      " 95%|██████████████████████████████████████████████████████████████████████████▋    | 946/1000 [00:20<00:01, 47.98it/s]"
     ]
    },
    {
     "name": "stdout",
     "output_type": "stream",
     "text": [
      "Iter 947/1000 - Loss: 14073.241   log_lengthscale: -13.816   log_noise: 2.604\n",
      "Iter 948/1000 - Loss: 14065.166   log_lengthscale: -13.816   log_noise: 2.604\n",
      "Iter 949/1000 - Loss: 14057.115   log_lengthscale: -13.816   log_noise: 2.605\n",
      "Iter 950/1000 - Loss: 14049.079   log_lengthscale: -13.816   log_noise: 2.605\n",
      "Iter 951/1000 - Loss: 14041.045   log_lengthscale: -13.816   log_noise: 2.606\n"
     ]
    },
    {
     "name": "stderr",
     "output_type": "stream",
     "text": [
      "\r",
      " 95%|███████████████████████████████████████████████████████████████████████████▏   | 951/1000 [00:20<00:01, 47.64it/s]"
     ]
    },
    {
     "name": "stdout",
     "output_type": "stream",
     "text": [
      "Iter 952/1000 - Loss: 14033.028   log_lengthscale: -13.816   log_noise: 2.606\n",
      "Iter 953/1000 - Loss: 14025.021   log_lengthscale: -13.816   log_noise: 2.607\n",
      "Iter 954/1000 - Loss: 14017.021   log_lengthscale: -13.816   log_noise: 2.607\n",
      "Iter 955/1000 - Loss: 14009.041   log_lengthscale: -13.816   log_noise: 2.608\n",
      "Iter 956/1000 - Loss: 14001.069   log_lengthscale: -13.816   log_noise: 2.608\n"
     ]
    },
    {
     "name": "stderr",
     "output_type": "stream",
     "text": [
      "\r",
      " 96%|███████████████████████████████████████████████████████████████████████████▌   | 956/1000 [00:20<00:00, 45.59it/s]"
     ]
    },
    {
     "name": "stdout",
     "output_type": "stream",
     "text": [
      "Iter 957/1000 - Loss: 13993.116   log_lengthscale: -13.816   log_noise: 2.609\n",
      "Iter 958/1000 - Loss: 13985.164   log_lengthscale: -13.816   log_noise: 2.609\n",
      "Iter 959/1000 - Loss: 13977.227   log_lengthscale: -13.816   log_noise: 2.610\n",
      "Iter 960/1000 - Loss: 13969.313   log_lengthscale: -13.816   log_noise: 2.610\n",
      "Iter 961/1000 - Loss: 13961.396   log_lengthscale: -13.816   log_noise: 2.611\n"
     ]
    },
    {
     "name": "stderr",
     "output_type": "stream",
     "text": [
      "\r",
      " 96%|███████████████████████████████████████████████████████████████████████████▉   | 961/1000 [00:20<00:00, 43.91it/s]"
     ]
    },
    {
     "name": "stdout",
     "output_type": "stream",
     "text": [
      "Iter 962/1000 - Loss: 13953.496   log_lengthscale: -13.816   log_noise: 2.611\n",
      "Iter 963/1000 - Loss: 13945.609   log_lengthscale: -13.816   log_noise: 2.612\n",
      "Iter 964/1000 - Loss: 13937.734   log_lengthscale: -13.816   log_noise: 2.612\n",
      "Iter 965/1000 - Loss: 13929.861   log_lengthscale: -13.816   log_noise: 2.613\n",
      "Iter 966/1000 - Loss: 13922.006   log_lengthscale: -13.816   log_noise: 2.613\n"
     ]
    },
    {
     "name": "stderr",
     "output_type": "stream",
     "text": [
      "\r",
      " 97%|████████████████████████████████████████████████████████████████████████████▎  | 966/1000 [00:20<00:00, 42.37it/s]"
     ]
    },
    {
     "name": "stdout",
     "output_type": "stream",
     "text": [
      "Iter 967/1000 - Loss: 13914.169   log_lengthscale: -13.816   log_noise: 2.614\n",
      "Iter 968/1000 - Loss: 13906.342   log_lengthscale: -13.816   log_noise: 2.614\n",
      "Iter 969/1000 - Loss: 13898.524   log_lengthscale: -13.816   log_noise: 2.615\n",
      "Iter 970/1000 - Loss: 13890.712   log_lengthscale: -13.816   log_noise: 2.615\n",
      "Iter 971/1000 - Loss: 13882.910   log_lengthscale: -13.816   log_noise: 2.616\n"
     ]
    },
    {
     "name": "stderr",
     "output_type": "stream",
     "text": [
      "\r",
      " 97%|████████████████████████████████████████████████████████████████████████████▋  | 971/1000 [00:20<00:00, 42.30it/s]"
     ]
    },
    {
     "name": "stdout",
     "output_type": "stream",
     "text": [
      "Iter 972/1000 - Loss: 13875.132   log_lengthscale: -13.816   log_noise: 2.616\n",
      "Iter 973/1000 - Loss: 13867.351   log_lengthscale: -13.816   log_noise: 2.617\n",
      "Iter 974/1000 - Loss: 13859.599   log_lengthscale: -13.816   log_noise: 2.618\n",
      "Iter 975/1000 - Loss: 13851.851   log_lengthscale: -13.816   log_noise: 2.618\n",
      "Iter 976/1000 - Loss: 13844.102   log_lengthscale: -13.816   log_noise: 2.619\n"
     ]
    },
    {
     "name": "stderr",
     "output_type": "stream",
     "text": [
      "\r",
      " 98%|█████████████████████████████████████████████████████████████████████████████  | 976/1000 [00:21<00:00, 42.14it/s]"
     ]
    },
    {
     "name": "stdout",
     "output_type": "stream",
     "text": [
      "Iter 977/1000 - Loss: 13836.382   log_lengthscale: -13.816   log_noise: 2.619\n",
      "Iter 978/1000 - Loss: 13828.660   log_lengthscale: -13.816   log_noise: 2.620\n",
      "Iter 979/1000 - Loss: 13820.958   log_lengthscale: -13.816   log_noise: 2.620\n",
      "Iter 980/1000 - Loss: 13813.261   log_lengthscale: -13.816   log_noise: 2.621\n",
      "Iter 981/1000 - Loss: 13805.575   log_lengthscale: -13.816   log_noise: 2.621\n"
     ]
    },
    {
     "name": "stderr",
     "output_type": "stream",
     "text": [
      "\r",
      " 98%|█████████████████████████████████████████████████████████████████████████████▍ | 981/1000 [00:21<00:00, 41.00it/s]"
     ]
    },
    {
     "name": "stdout",
     "output_type": "stream",
     "text": [
      "Iter 982/1000 - Loss: 13797.901   log_lengthscale: -13.816   log_noise: 2.622\n",
      "Iter 983/1000 - Loss: 13790.241   log_lengthscale: -13.816   log_noise: 2.622\n",
      "Iter 984/1000 - Loss: 13782.594   log_lengthscale: -13.816   log_noise: 2.623\n",
      "Iter 985/1000 - Loss: 13774.958   log_lengthscale: -13.816   log_noise: 2.623\n",
      "Iter 986/1000 - Loss: 13767.324   log_lengthscale: -13.816   log_noise: 2.624\n"
     ]
    },
    {
     "name": "stderr",
     "output_type": "stream",
     "text": [
      "\r",
      " 99%|█████████████████████████████████████████████████████████████████████████████▉ | 986/1000 [00:21<00:00, 41.13it/s]"
     ]
    },
    {
     "name": "stdout",
     "output_type": "stream",
     "text": [
      "Iter 987/1000 - Loss: 13759.711   log_lengthscale: -13.816   log_noise: 2.624\n",
      "Iter 988/1000 - Loss: 13752.111   log_lengthscale: -13.816   log_noise: 2.625\n",
      "Iter 989/1000 - Loss: 13744.516   log_lengthscale: -13.816   log_noise: 2.625\n",
      "Iter 990/1000 - Loss: 13736.925   log_lengthscale: -13.816   log_noise: 2.626\n",
      "Iter 991/1000 - Loss: 13729.350   log_lengthscale: -13.816   log_noise: 2.626\n"
     ]
    },
    {
     "name": "stderr",
     "output_type": "stream",
     "text": [
      "\r",
      " 99%|██████████████████████████████████████████████████████████████████████████████▎| 991/1000 [00:21<00:00, 40.23it/s]"
     ]
    },
    {
     "name": "stdout",
     "output_type": "stream",
     "text": [
      "Iter 992/1000 - Loss: 13721.790   log_lengthscale: -13.816   log_noise: 2.627\n",
      "Iter 993/1000 - Loss: 13714.248   log_lengthscale: -13.816   log_noise: 2.627\n",
      "Iter 994/1000 - Loss: 13706.698   log_lengthscale: -13.816   log_noise: 2.628\n",
      "Iter 995/1000 - Loss: 13699.167   log_lengthscale: -13.816   log_noise: 2.628\n",
      "Iter 996/1000 - Loss: 13691.655   log_lengthscale: -13.816   log_noise: 2.629\n"
     ]
    },
    {
     "name": "stderr",
     "output_type": "stream",
     "text": [
      "\r",
      "100%|██████████████████████████████████████████████████████████████████████████████▋| 996/1000 [00:21<00:00, 39.43it/s]"
     ]
    },
    {
     "name": "stdout",
     "output_type": "stream",
     "text": [
      "Iter 997/1000 - Loss: 13684.146   log_lengthscale: -13.816   log_noise: 2.629\n",
      "Iter 998/1000 - Loss: 13676.646   log_lengthscale: -13.816   log_noise: 2.630\n",
      "Iter 999/1000 - Loss: 13669.155   log_lengthscale: -13.816   log_noise: 2.630\n",
      "Iter 1000/1000 - Loss: 13661.681   log_lengthscale: -13.816   log_noise: 2.631\n"
     ]
    },
    {
     "name": "stderr",
     "output_type": "stream",
     "text": [
      "100%|██████████████████████████████████████████████████████████████████████████████| 1000/1000 [00:21<00:00, 38.60it/s]\n"
     ]
    }
   ],
   "source": [
    "model.train()\n",
    "likelihood.train()\n",
    "\n",
    "optimizer = torch.optim.Adam([{'params': model.parameters()}], lr=0.1)\n",
    "\n",
    "mll = gpytorch.mlls.ExactMarginalLogLikelihood(likelihood, model)\n",
    "\n",
    "training_iter = 1000\n",
    "for i in trange(training_iter):\n",
    "    # Zero gradients from previous iteration\n",
    "    optimizer.zero_grad()\n",
    "    # Output from model\n",
    "    output = model(train_x)\n",
    "    # Calc loss and backprop gradients\n",
    "    loss = -mll(output, train_y)\n",
    "    loss.backward()\n",
    "    print('Iter %d/%d - Loss: %.3f   log_lengthscale: %.3f   log_noise: %.3f' % (\n",
    "        i + 1, training_iter, loss.item(),\n",
    "        model.covar_module.base_kernel.log_lengthscale.item(),\n",
    "        model.likelihood.log_noise.item()\n",
    "    ))\n",
    "    optimizer.step()"
   ]
  },
  {
   "cell_type": "code",
   "execution_count": 9,
   "metadata": {},
   "outputs": [],
   "source": [
    "model.eval()\n",
    "likelihood.eval()\n",
    "\n",
    "# Test points are regularly spaced along [0,1]\n",
    "# Make predictions by feeding model through likelihood\n",
    "with torch.no_grad(), gpytorch.settings.fast_pred_var():\n",
    "    observed_pred = likelihood(model(test_x))"
   ]
  },
  {
   "cell_type": "code",
   "execution_count": 10,
   "metadata": {},
   "outputs": [
    {
     "data": {
      "text/plain": [
       "tensor([ 0.3253, -1.5150, -0.5288, -0.6394, -0.7402,  1.4646,  2.4220,  0.4039,\n",
       "         0.7970, -0.2237, -1.0026, -0.3741,  1.8027, -1.1789,  1.1718,  1.4152,\n",
       "        -0.0542,  0.4029,  0.7203,  1.1419,  0.8588, -0.6058, -0.2253, -0.9414,\n",
       "         0.2203, -0.4008,  1.8116, -0.9671,  1.2323, -0.6483,  0.5774,  2.0760,\n",
       "         0.2212, -0.9459, -0.2581,  0.6756,  0.6557, -0.1621, -0.1323, -0.4277,\n",
       "         0.7891, -2.1860,  0.0891,  1.2219, -0.8429,  1.0344,  0.5094, -1.9519,\n",
       "        -0.0211,  0.7089, -0.1569,  0.7795])"
      ]
     },
     "execution_count": 10,
     "metadata": {},
     "output_type": "execute_result"
    }
   ],
   "source": [
    "observed_pred.get_base_samples()"
   ]
  },
  {
   "cell_type": "code",
   "execution_count": 107,
   "metadata": {},
   "outputs": [
    {
     "data": {
      "image/png": "[encoded data removed]",
      "text/plain": [
       "<Figure size 576x432 with 1 Axes>"
      ]
     },
     "metadata": {
      "needs_background": "light"
     },
     "output_type": "display_data"
    }
   ],
   "source": [
    "with torch.no_grad():\n",
    "    # Initialize plot\n",
    "    f, ax = plt.subplots(1, 1, figsize=(8, 6))\n",
    "\n",
    "    # Get upper and lower confidence bounds\n",
    "    lower, upper = observed_pred.confidence_region()\n",
    "    # Plot training data as black stars\n",
    "    ax.loglog(train_x.numpy()[:, 0], train_y.numpy(), 'k*')\n",
    "    # Plot predictive means as blue line\n",
    "    ax.loglog(test_x.numpy()[:, 0], observed_pred.mean.numpy(), 'b')\n",
    "    # Shade between the lower and upper confidence bounds\n",
    "    ax.fill_between(test_x.numpy()[:, 0], lower.numpy(), upper.numpy(), alpha=0.5)\n",
    "    #ax.set_ylim([-3, 3])\n",
    "    ax.legend(['Observed Data', 'Mean', 'Confidence'])"
   ]
  },
  {
   "cell_type": "code",
   "execution_count": null,
   "metadata": {},
   "outputs": [],
   "source": []
  }
 ],
 "metadata": {
  "kernelspec": {
   "display_name": "Python 3",
   "language": "python",
   "name": "python3"
  },
  "language_info": {
   "codemirror_mode": {
    "name": "ipython",
    "version": 3
   },
   "file_extension": ".py",
   "mimetype": "text/x-python",
   "name": "python",
   "nbconvert_exporter": "python",
   "pygments_lexer": "ipython3",
   "version": "3.6.8"
  }
 },
 "nbformat": 4,
 "nbformat_minor": 2
}
